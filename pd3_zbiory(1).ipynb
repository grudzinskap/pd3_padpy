{
 "cells": [
  {
   "cell_type": "code",
   "execution_count": 1,
   "metadata": {},
   "outputs": [],
   "source": [
    "import numpy as np\n",
    "import pandas as pd\n",
    "from lxml import etree as et\n",
    "import os.path, glob\n",
    "import sqlite3\n",
    "from sys import getsizeof\n",
    "import tempfile\n",
    "from datetime import datetime\n",
    "import calendar"
   ]
  },
  {
   "cell_type": "code",
   "execution_count": 2,
   "metadata": {},
   "outputs": [],
   "source": [
    "names = {\n",
    "    'badges' : ['UserId', 'Name', 'Date'],\n",
    "    'comments' : ['Id', 'PostId', 'Score', 'Text', 'CreationDate', 'UserId'],\n",
    "    'posts' : ['Id', 'PostTypeId', 'ParentID', 'AcceptedAnswerId', 'CreationDate', 'Score', 'ViewCount', 'Body', 'OwnerUserId',\n",
    "               'LastEditorUserId', 'LastEditorDisplayName', 'LastEditDate', 'LastActivityDate', 'CommunityOwnedDate', 'ClosedDate',\n",
    "               'Title', 'Tags', 'AnswerCount', 'CommentCount', 'FavoriteCount'],\n",
    "    'posthistory' : ['Id', 'PostHistoryTypeId', 'PostId', 'RevisionGUID', 'CreationDate', 'UserId', 'UserDisplayName', \n",
    "                     'Comment', 'Text', 'CloseReasonId'],\n",
    "    'postlinks' : ['Id', 'CreationDate', 'PostId', 'RelatedPostId', 'PostLinkTypeId'],\n",
    "    'users' : ['Id', 'Reputation', 'CreationDate', 'DisplayName', 'EmailHash', 'LastAccessDate', 'WebsiteUrl',\n",
    "               'Location', 'Age', 'AboutMe', 'Views', 'UpVotes', 'DownVotes'],\n",
    "    'votes' : ['PostId', 'VoteTypeId', 'CreationDate', 'UserId', 'BountyAmount'], \n",
    "    'tags' : ['Id', 'TagName', 'Count', 'ExcerptPostId', 'WikiPostId']}"
   ]
  },
  {
   "cell_type": "code",
   "execution_count": 3,
   "metadata": {},
   "outputs": [],
   "source": [
    "conn = sqlite3.connect('pd3_py275688873.db')"
   ]
  },
  {
   "cell_type": "code",
   "execution_count": 4,
   "metadata": {},
   "outputs": [],
   "source": [
    "for stack in glob.glob(\"*.com\"):\n",
    "    stack_name = stack[:stack.find('.')]\n",
    "    for xml in glob.glob(os.path.join(stack, \"*.xml\")):\n",
    "        xml_name = xml[xml.find('.com') + 5:xml.find('.xml')].lower()\n",
    "        col_names = names.get(xml_name)\n",
    "        tree = et.parse(xml)\n",
    "        root = tree.getroot()\n",
    "        df = pd.DataFrame([[r.get(i) for i in col_names] for r in root], columns = col_names)\n",
    "        #for c in df.columns:\n",
    "        #   print(stack_name + ' ' + xml_name)\n",
    "        #   df[c].astype(float, errors = 'ignore', copy = False)\n",
    "        df.to_sql(stack_name[0] + '_' + xml_name, conn, index = False)  \n",
    "        if stack_name == 'ell':\n",
    "            if xml_name == 'badges':\n",
    "                e_badges = df\n",
    "            elif xml_name == 'comments':\n",
    "                e_comments = df\n",
    "            elif xml_name == 'posts':\n",
    "                e_posts = df\n",
    "            elif xml_name == 'posthistory':\n",
    "                e_posthistory = df\n",
    "            elif xml_name == 'postlinks':\n",
    "                e_postslinks = df\n",
    "            elif xml_name == 'users':\n",
    "                e_users = df\n",
    "            elif xml_name == 'votes':\n",
    "                e_votes = df\n",
    "            elif xml_name == 'tags':\n",
    "                e_tags = df\n",
    "        elif stack_name == 'movies':\n",
    "            if xml_name == 'badges':\n",
    "                m_badges = df\n",
    "            elif xml_name == 'comments':\n",
    "                m_comments = df\n",
    "            elif xml_name == 'posts':\n",
    "                m_posts = df\n",
    "            elif xml_name == 'posthistory':\n",
    "                m_posthistory = df\n",
    "            elif xml_name == 'postlinks':\n",
    "                m_postslinks = df\n",
    "            elif xml_name == 'users':\n",
    "                m_users = df\n",
    "            elif xml_name == 'votes':\n",
    "                m_votes = df\n",
    "            elif xml_name == 'tags':\n",
    "                m_tags = df      \n",
    "        elif stack_name == 'politics':\n",
    "            if xml_name == 'badges':\n",
    "                p_badges = df\n",
    "            elif xml_name == 'comments':\n",
    "                p_comments = df\n",
    "            elif xml_name == 'posts':\n",
    "                p_posts = df\n",
    "            elif xml_name == 'posthistory':\n",
    "                p_posthistory = df\n",
    "            elif xml_name == 'postlinks':\n",
    "                p_postslinks = df\n",
    "            elif xml_name == 'users':\n",
    "                p_users = df\n",
    "            elif xml_name == 'votes':\n",
    "                p_votes = df\n",
    "            elif xml_name == 'tags':\n",
    "                p_tags = df\n",
    "        "
   ]
  },
  {
   "cell_type": "code",
   "execution_count": 5,
   "metadata": {},
   "outputs": [],
   "source": [
    "        for c in df.columns:\n",
    "            df[c] = df[c].astype(float, errors = 'ignore')\n",
    "            df[c] = df[c].astype(int, errors = 'ignore')\n",
    "            if c.lower().find('date') > 0:\n",
    "                df[c] = pd.to_datetime(df[c])"
   ]
  },
  {
   "cell_type": "code",
   "execution_count": 6,
   "metadata": {},
   "outputs": [
    {
     "data": {
      "text/html": [
       "<div>\n",
       "<style scoped>\n",
       "    .dataframe tbody tr th:only-of-type {\n",
       "        vertical-align: middle;\n",
       "    }\n",
       "\n",
       "    .dataframe tbody tr th {\n",
       "        vertical-align: top;\n",
       "    }\n",
       "\n",
       "    .dataframe thead th {\n",
       "        text-align: right;\n",
       "    }\n",
       "</style>\n",
       "<table border=\"1\" class=\"dataframe\">\n",
       "  <thead>\n",
       "    <tr style=\"text-align: right;\">\n",
       "      <th></th>\n",
       "      <th>Id</th>\n",
       "      <th>Reputation</th>\n",
       "      <th>CreationDate</th>\n",
       "      <th>DisplayName</th>\n",
       "      <th>EmailHash</th>\n",
       "      <th>LastAccessDate</th>\n",
       "      <th>WebsiteUrl</th>\n",
       "      <th>Location</th>\n",
       "      <th>Age</th>\n",
       "      <th>AboutMe</th>\n",
       "      <th>Views</th>\n",
       "      <th>UpVotes</th>\n",
       "      <th>DownVotes</th>\n",
       "    </tr>\n",
       "  </thead>\n",
       "  <tbody>\n",
       "    <tr>\n",
       "      <th>0</th>\n",
       "      <td>-1</td>\n",
       "      <td>1</td>\n",
       "      <td>2012-12-04T20:12:17.363</td>\n",
       "      <td>Community</td>\n",
       "      <td>None</td>\n",
       "      <td>2012-12-04T20:12:17.363</td>\n",
       "      <td>None</td>\n",
       "      <td>on the server farm</td>\n",
       "      <td>None</td>\n",
       "      <td>&lt;p&gt;Hi, I'm not really a person.&lt;/p&gt;\\n\\n&lt;p&gt;I'm ...</td>\n",
       "      <td>23</td>\n",
       "      <td>2</td>\n",
       "      <td>15</td>\n",
       "    </tr>\n",
       "    <tr>\n",
       "      <th>1</th>\n",
       "      <td>1</td>\n",
       "      <td>101</td>\n",
       "      <td>2012-12-04T20:30:56.000</td>\n",
       "      <td>Geoff Dalgas</td>\n",
       "      <td>None</td>\n",
       "      <td>2013-03-26T05:16:50.490</td>\n",
       "      <td>http://stackoverflow.com</td>\n",
       "      <td>Corvallis, OR</td>\n",
       "      <td>None</td>\n",
       "      <td>&lt;p&gt;Developer on the Stack Overflow team.  Find...</td>\n",
       "      <td>3</td>\n",
       "      <td>0</td>\n",
       "      <td>0</td>\n",
       "    </tr>\n",
       "    <tr>\n",
       "      <th>2</th>\n",
       "      <td>2</td>\n",
       "      <td>100</td>\n",
       "      <td>2012-12-04T20:34:24.000</td>\n",
       "      <td>Adam Lear</td>\n",
       "      <td>None</td>\n",
       "      <td>2017-06-19T19:39:56.960</td>\n",
       "      <td>None</td>\n",
       "      <td>New York, NY</td>\n",
       "      <td>None</td>\n",
       "      <td>\\n\\n&lt;p&gt;Developer at Stack Overflow. Canadian w...</td>\n",
       "      <td>12</td>\n",
       "      <td>7</td>\n",
       "      <td>0</td>\n",
       "    </tr>\n",
       "    <tr>\n",
       "      <th>3</th>\n",
       "      <td>3</td>\n",
       "      <td>101</td>\n",
       "      <td>2012-12-04T20:34:26.000</td>\n",
       "      <td>Jaydles</td>\n",
       "      <td>None</td>\n",
       "      <td>2013-08-30T15:51:06.383</td>\n",
       "      <td>https://blog.stackexchange.com/authors/jhanlon/</td>\n",
       "      <td>New York, NY, United States</td>\n",
       "      <td>None</td>\n",
       "      <td>&lt;p&gt;I am:  &lt;/p&gt;\\n\\n&lt;ul&gt;\\n&lt;li&gt;EVP of Culture and...</td>\n",
       "      <td>0</td>\n",
       "      <td>1</td>\n",
       "      <td>0</td>\n",
       "    </tr>\n",
       "    <tr>\n",
       "      <th>4</th>\n",
       "      <td>5</td>\n",
       "      <td>304</td>\n",
       "      <td>2012-12-04T20:36:06.000</td>\n",
       "      <td>Robert Cartaino</td>\n",
       "      <td>None</td>\n",
       "      <td>2018-04-04T13:30:53.130</td>\n",
       "      <td>None</td>\n",
       "      <td>Palm Bay, FL</td>\n",
       "      <td>None</td>\n",
       "      <td>&lt;p&gt;&lt;a href=\"http://blog.stackoverflow.com/2010...</td>\n",
       "      <td>24</td>\n",
       "      <td>15</td>\n",
       "      <td>8</td>\n",
       "    </tr>\n",
       "  </tbody>\n",
       "</table>\n",
       "</div>"
      ],
      "text/plain": [
       "   Id Reputation             CreationDate      DisplayName EmailHash  \\\n",
       "0  -1          1  2012-12-04T20:12:17.363        Community      None   \n",
       "1   1        101  2012-12-04T20:30:56.000     Geoff Dalgas      None   \n",
       "2   2        100  2012-12-04T20:34:24.000        Adam Lear      None   \n",
       "3   3        101  2012-12-04T20:34:26.000          Jaydles      None   \n",
       "4   5        304  2012-12-04T20:36:06.000  Robert Cartaino      None   \n",
       "\n",
       "            LastAccessDate                                       WebsiteUrl  \\\n",
       "0  2012-12-04T20:12:17.363                                             None   \n",
       "1  2013-03-26T05:16:50.490                         http://stackoverflow.com   \n",
       "2  2017-06-19T19:39:56.960                                             None   \n",
       "3  2013-08-30T15:51:06.383  https://blog.stackexchange.com/authors/jhanlon/   \n",
       "4  2018-04-04T13:30:53.130                                             None   \n",
       "\n",
       "                      Location   Age  \\\n",
       "0           on the server farm  None   \n",
       "1                Corvallis, OR  None   \n",
       "2                 New York, NY  None   \n",
       "3  New York, NY, United States  None   \n",
       "4                 Palm Bay, FL  None   \n",
       "\n",
       "                                             AboutMe Views UpVotes DownVotes  \n",
       "0  <p>Hi, I'm not really a person.</p>\\n\\n<p>I'm ...    23       2        15  \n",
       "1  <p>Developer on the Stack Overflow team.  Find...     3       0         0  \n",
       "2  \\n\\n<p>Developer at Stack Overflow. Canadian w...    12       7         0  \n",
       "3  <p>I am:  </p>\\n\\n<ul>\\n<li>EVP of Culture and...     0       1         0  \n",
       "4  <p><a href=\"http://blog.stackoverflow.com/2010...    24      15         8  "
      ]
     },
     "execution_count": 6,
     "metadata": {},
     "output_type": "execute_result"
    }
   ],
   "source": [
    "p_users.head()"
   ]
  },
  {
   "cell_type": "code",
   "execution_count": 7,
   "metadata": {},
   "outputs": [
    {
     "data": {
      "text/html": [
       "<div>\n",
       "<style scoped>\n",
       "    .dataframe tbody tr th:only-of-type {\n",
       "        vertical-align: middle;\n",
       "    }\n",
       "\n",
       "    .dataframe tbody tr th {\n",
       "        vertical-align: top;\n",
       "    }\n",
       "\n",
       "    .dataframe thead th {\n",
       "        text-align: right;\n",
       "    }\n",
       "</style>\n",
       "<table border=\"1\" class=\"dataframe\">\n",
       "  <thead>\n",
       "    <tr style=\"text-align: right;\">\n",
       "      <th></th>\n",
       "      <th>UserId</th>\n",
       "      <th>Name</th>\n",
       "      <th>Date</th>\n",
       "    </tr>\n",
       "  </thead>\n",
       "  <tbody>\n",
       "    <tr>\n",
       "      <th>0</th>\n",
       "      <td>1</td>\n",
       "      <td>Autobiographer</td>\n",
       "      <td>2012-12-04T21:34:12.180</td>\n",
       "    </tr>\n",
       "    <tr>\n",
       "      <th>1</th>\n",
       "      <td>10</td>\n",
       "      <td>Autobiographer</td>\n",
       "      <td>2012-12-04T21:34:12.180</td>\n",
       "    </tr>\n",
       "  </tbody>\n",
       "</table>\n",
       "</div>"
      ],
      "text/plain": [
       "  UserId            Name                     Date\n",
       "0      1  Autobiographer  2012-12-04T21:34:12.180\n",
       "1     10  Autobiographer  2012-12-04T21:34:12.180"
      ]
     },
     "execution_count": 7,
     "metadata": {},
     "output_type": "execute_result"
    }
   ],
   "source": [
    "p_badges.head(2)"
   ]
  },
  {
   "cell_type": "code",
   "execution_count": 178,
   "metadata": {},
   "outputs": [
    {
     "data": {
      "text/html": [
       "<div>\n",
       "<style scoped>\n",
       "    .dataframe tbody tr th:only-of-type {\n",
       "        vertical-align: middle;\n",
       "    }\n",
       "\n",
       "    .dataframe tbody tr th {\n",
       "        vertical-align: top;\n",
       "    }\n",
       "\n",
       "    .dataframe thead th {\n",
       "        text-align: right;\n",
       "    }\n",
       "</style>\n",
       "<table border=\"1\" class=\"dataframe\">\n",
       "  <thead>\n",
       "    <tr style=\"text-align: right;\">\n",
       "      <th></th>\n",
       "      <th>Id</th>\n",
       "      <th>PostId</th>\n",
       "      <th>Score</th>\n",
       "      <th>Text</th>\n",
       "      <th>CreationDate</th>\n",
       "      <th>UserId</th>\n",
       "    </tr>\n",
       "  </thead>\n",
       "  <tbody>\n",
       "    <tr>\n",
       "      <th>105</th>\n",
       "      <td>109</td>\n",
       "      <td>80</td>\n",
       "      <td>9</td>\n",
       "      <td>Past affiliations don't matter, from the momen...</td>\n",
       "      <td>2012-12-10T03:35:53.837</td>\n",
       "      <td>101</td>\n",
       "    </tr>\n",
       "    <tr>\n",
       "      <th>3203</th>\n",
       "      <td>7952</td>\n",
       "      <td>3507</td>\n",
       "      <td>9</td>\n",
       "      <td>@guest271314 I'm sorry, but this is all the he...</td>\n",
       "      <td>2018-07-22T17:01:40.003</td>\n",
       "      <td>3135</td>\n",
       "    </tr>\n",
       "    <tr>\n",
       "      <th>2000</th>\n",
       "      <td>5439</td>\n",
       "      <td>2992</td>\n",
       "      <td>9</td>\n",
       "      <td>Your post didn't have to be deleted.  Philipp ...</td>\n",
       "      <td>2017-06-01T17:11:20.073</td>\n",
       "      <td>193</td>\n",
       "    </tr>\n",
       "    <tr>\n",
       "      <th>3628</th>\n",
       "      <td>8589</td>\n",
       "      <td>3641</td>\n",
       "      <td>9</td>\n",
       "      <td>I would change the name of both. Experience te...</td>\n",
       "      <td>2018-09-17T13:35:05.517</td>\n",
       "      <td>11249</td>\n",
       "    </tr>\n",
       "    <tr>\n",
       "      <th>2010</th>\n",
       "      <td>5453</td>\n",
       "      <td>3005</td>\n",
       "      <td>9</td>\n",
       "      <td>This Meta post is posted as a question, but it...</td>\n",
       "      <td>2017-06-03T03:01:07.247</td>\n",
       "      <td>2984</td>\n",
       "    </tr>\n",
       "    <tr>\n",
       "      <th>3527</th>\n",
       "      <td>8412</td>\n",
       "      <td>3598</td>\n",
       "      <td>9</td>\n",
       "      <td>It is now at a level where white supremacist r...</td>\n",
       "      <td>2018-08-30T15:12:07.320</td>\n",
       "      <td>8062</td>\n",
       "    </tr>\n",
       "    <tr>\n",
       "      <th>3454</th>\n",
       "      <td>8289</td>\n",
       "      <td>3583</td>\n",
       "      <td>9</td>\n",
       "      <td>@MathematicsStudent1122 Racism is not a \"polit...</td>\n",
       "      <td>2018-08-24T21:58:46.143</td>\n",
       "      <td>101</td>\n",
       "    </tr>\n",
       "    <tr>\n",
       "      <th>3227</th>\n",
       "      <td>7981</td>\n",
       "      <td>3507</td>\n",
       "      <td>9</td>\n",
       "      <td>@guest271314 Of course there is the possibilit...</td>\n",
       "      <td>2018-07-23T13:46:49.417</td>\n",
       "      <td>11249</td>\n",
       "    </tr>\n",
       "    <tr>\n",
       "      <th>3614</th>\n",
       "      <td>8575</td>\n",
       "      <td>3632</td>\n",
       "      <td>8</td>\n",
       "      <td>This is indeed a superior solution as it avoid...</td>\n",
       "      <td>2018-09-14T20:31:15.790</td>\n",
       "      <td>18373</td>\n",
       "    </tr>\n",
       "    <tr>\n",
       "      <th>3231</th>\n",
       "      <td>7986</td>\n",
       "      <td>3509</td>\n",
       "      <td>8</td>\n",
       "      <td>I see no evidence that the algorithm is broken...</td>\n",
       "      <td>2018-07-23T16:11:55.670</td>\n",
       "      <td>11249</td>\n",
       "    </tr>\n",
       "  </tbody>\n",
       "</table>\n",
       "</div>"
      ],
      "text/plain": [
       "        Id PostId Score                                               Text  \\\n",
       "105    109     80     9  Past affiliations don't matter, from the momen...   \n",
       "3203  7952   3507     9  @guest271314 I'm sorry, but this is all the he...   \n",
       "2000  5439   2992     9  Your post didn't have to be deleted.  Philipp ...   \n",
       "3628  8589   3641     9  I would change the name of both. Experience te...   \n",
       "2010  5453   3005     9  This Meta post is posted as a question, but it...   \n",
       "3527  8412   3598     9  It is now at a level where white supremacist r...   \n",
       "3454  8289   3583     9  @MathematicsStudent1122 Racism is not a \"polit...   \n",
       "3227  7981   3507     9  @guest271314 Of course there is the possibilit...   \n",
       "3614  8575   3632     8  This is indeed a superior solution as it avoid...   \n",
       "3231  7986   3509     8  I see no evidence that the algorithm is broken...   \n",
       "\n",
       "                 CreationDate UserId  \n",
       "105   2012-12-10T03:35:53.837    101  \n",
       "3203  2018-07-22T17:01:40.003   3135  \n",
       "2000  2017-06-01T17:11:20.073    193  \n",
       "3628  2018-09-17T13:35:05.517  11249  \n",
       "2010  2017-06-03T03:01:07.247   2984  \n",
       "3527  2018-08-30T15:12:07.320   8062  \n",
       "3454  2018-08-24T21:58:46.143    101  \n",
       "3227  2018-07-23T13:46:49.417  11249  \n",
       "3614  2018-09-14T20:31:15.790  18373  \n",
       "3231  2018-07-23T16:11:55.670  11249  "
      ]
     },
     "execution_count": 178,
     "metadata": {},
     "output_type": "execute_result"
    }
   ],
   "source": [
    "p_comments.sort_values(by=\"Score\", ascending=False).head(10)"
   ]
  },
  {
   "cell_type": "code",
   "execution_count": 187,
   "metadata": {},
   "outputs": [
    {
     "data": {
      "text/html": [
       "<div>\n",
       "<style scoped>\n",
       "    .dataframe tbody tr th:only-of-type {\n",
       "        vertical-align: middle;\n",
       "    }\n",
       "\n",
       "    .dataframe tbody tr th {\n",
       "        vertical-align: top;\n",
       "    }\n",
       "\n",
       "    .dataframe thead th {\n",
       "        text-align: right;\n",
       "    }\n",
       "</style>\n",
       "<table border=\"1\" class=\"dataframe\">\n",
       "  <thead>\n",
       "    <tr style=\"text-align: right;\">\n",
       "      <th></th>\n",
       "      <th>ViewCount</th>\n",
       "      <th>Body</th>\n",
       "    </tr>\n",
       "  </thead>\n",
       "  <tbody>\n",
       "    <tr>\n",
       "      <th>813</th>\n",
       "      <td>99</td>\n",
       "      <td>&lt;p&gt;Take a look at this question: &lt;a href=\"http...</td>\n",
       "    </tr>\n",
       "    <tr>\n",
       "      <th>1597</th>\n",
       "      <td>98</td>\n",
       "      <td>&lt;p&gt;Can anyone think of a way to ask for reason...</td>\n",
       "    </tr>\n",
       "    <tr>\n",
       "      <th>976</th>\n",
       "      <td>97</td>\n",
       "      <td>&lt;p&gt;I've recently requested this question – &lt;a ...</td>\n",
       "    </tr>\n",
       "    <tr>\n",
       "      <th>1518</th>\n",
       "      <td>96</td>\n",
       "      <td>&lt;p&gt;Many question about the US government can a...</td>\n",
       "    </tr>\n",
       "    <tr>\n",
       "      <th>1198</th>\n",
       "      <td>96</td>\n",
       "      <td>&lt;p&gt;What can I do about an answer that is accep...</td>\n",
       "    </tr>\n",
       "    <tr>\n",
       "      <th>1151</th>\n",
       "      <td>96</td>\n",
       "      <td>&lt;p&gt;Some users ask (main) part of question in t...</td>\n",
       "    </tr>\n",
       "    <tr>\n",
       "      <th>1143</th>\n",
       "      <td>96</td>\n",
       "      <td>&lt;p&gt;In response to this question, &lt;a href=\"http...</td>\n",
       "    </tr>\n",
       "    <tr>\n",
       "      <th>164</th>\n",
       "      <td>96</td>\n",
       "      <td>&lt;p&gt;After reaching public beta, I see more and ...</td>\n",
       "    </tr>\n",
       "    <tr>\n",
       "      <th>1575</th>\n",
       "      <td>96</td>\n",
       "      <td>&lt;p&gt;The question originally called &lt;a href=\"htt...</td>\n",
       "    </tr>\n",
       "    <tr>\n",
       "      <th>916</th>\n",
       "      <td>96</td>\n",
       "      <td>&lt;p&gt;Over on RPG.SE, we are using a post notice ...</td>\n",
       "    </tr>\n",
       "    <tr>\n",
       "      <th>1099</th>\n",
       "      <td>95</td>\n",
       "      <td>&lt;p&gt;&lt;a href=\"https://politics.stackexchange.com...</td>\n",
       "    </tr>\n",
       "    <tr>\n",
       "      <th>524</th>\n",
       "      <td>95</td>\n",
       "      <td>&lt;p&gt;I find this kind of odd. The last question ...</td>\n",
       "    </tr>\n",
       "    <tr>\n",
       "      <th>260</th>\n",
       "      <td>94</td>\n",
       "      <td>&lt;p&gt;Presently, Politics SE has a very strong US...</td>\n",
       "    </tr>\n",
       "    <tr>\n",
       "      <th>1179</th>\n",
       "      <td>94</td>\n",
       "      <td>&lt;p&gt;At &lt;a href=\"https://politics.stackexchange....</td>\n",
       "    </tr>\n",
       "    <tr>\n",
       "      <th>709</th>\n",
       "      <td>93</td>\n",
       "      <td>&lt;blockquote&gt;\\n  &lt;p&gt;I watched the\\n  &lt;a href=\"h...</td>\n",
       "    </tr>\n",
       "    <tr>\n",
       "      <th>1309</th>\n",
       "      <td>92</td>\n",
       "      <td>&lt;p&gt;The Politics site inherits an administrativ...</td>\n",
       "    </tr>\n",
       "    <tr>\n",
       "      <th>275</th>\n",
       "      <td>92</td>\n",
       "      <td>&lt;p&gt;When I hear the word \"politics\" I think of ...</td>\n",
       "    </tr>\n",
       "    <tr>\n",
       "      <th>788</th>\n",
       "      <td>92</td>\n",
       "      <td>&lt;p&gt;Someone (or two someones?) just downvoted a...</td>\n",
       "    </tr>\n",
       "    <tr>\n",
       "      <th>1026</th>\n",
       "      <td>92</td>\n",
       "      <td>&lt;p&gt;Hours ago I posted &lt;a href=\"https://politic...</td>\n",
       "    </tr>\n",
       "    <tr>\n",
       "      <th>0</th>\n",
       "      <td>90</td>\n",
       "      <td>&lt;p&gt;Some questions on this site are likely to b...</td>\n",
       "    </tr>\n",
       "    <tr>\n",
       "      <th>168</th>\n",
       "      <td>90</td>\n",
       "      <td>&lt;p&gt;Some SE sites seem to dislike requests for ...</td>\n",
       "    </tr>\n",
       "    <tr>\n",
       "      <th>342</th>\n",
       "      <td>90</td>\n",
       "      <td>&lt;p&gt;&lt;a href=\"https://politics.stackexchange.com...</td>\n",
       "    </tr>\n",
       "    <tr>\n",
       "      <th>1015</th>\n",
       "      <td>90</td>\n",
       "      <td>&lt;p&gt;Why was &lt;a href=\"https://politics.stackexch...</td>\n",
       "    </tr>\n",
       "    <tr>\n",
       "      <th>1404</th>\n",
       "      <td>90</td>\n",
       "      <td>&lt;p&gt;Why was the comment \"none of this provides ...</td>\n",
       "    </tr>\n",
       "    <tr>\n",
       "      <th>611</th>\n",
       "      <td>9</td>\n",
       "      <td>&lt;p&gt;It seems like when election returns come in...</td>\n",
       "    </tr>\n",
       "    <tr>\n",
       "      <th>1096</th>\n",
       "      <td>89</td>\n",
       "      <td>&lt;p&gt;My &lt;a href=\"https://politics.stackexchange....</td>\n",
       "    </tr>\n",
       "    <tr>\n",
       "      <th>1288</th>\n",
       "      <td>89</td>\n",
       "      <td>&lt;p&gt;Example question: &lt;a href=\"https://politics...</td>\n",
       "    </tr>\n",
       "    <tr>\n",
       "      <th>802</th>\n",
       "      <td>89</td>\n",
       "      <td>&lt;p&gt;Why are questions about the practices and b...</td>\n",
       "    </tr>\n",
       "    <tr>\n",
       "      <th>1466</th>\n",
       "      <td>89</td>\n",
       "      <td>&lt;p&gt;&lt;a href=\"https://politics.stackexchange.com...</td>\n",
       "    </tr>\n",
       "    <tr>\n",
       "      <th>1088</th>\n",
       "      <td>88</td>\n",
       "      <td>&lt;p&gt;Update: the 3rd version of this question wa...</td>\n",
       "    </tr>\n",
       "    <tr>\n",
       "      <th>...</th>\n",
       "      <td>...</td>\n",
       "      <td>...</td>\n",
       "    </tr>\n",
       "    <tr>\n",
       "      <th>1559</th>\n",
       "      <td>None</td>\n",
       "      <td>&lt;p&gt;There were a couple problems with that comm...</td>\n",
       "    </tr>\n",
       "    <tr>\n",
       "      <th>1561</th>\n",
       "      <td>None</td>\n",
       "      <td>&lt;p&gt;I do not think that civic is a synonym for ...</td>\n",
       "    </tr>\n",
       "    <tr>\n",
       "      <th>1564</th>\n",
       "      <td>None</td>\n",
       "      <td>&lt;p&gt;I think your question has little bearing on...</td>\n",
       "    </tr>\n",
       "    <tr>\n",
       "      <th>1565</th>\n",
       "      <td>None</td>\n",
       "      <td>&lt;p&gt;A few things that are irrelevant to the que...</td>\n",
       "    </tr>\n",
       "    <tr>\n",
       "      <th>1566</th>\n",
       "      <td>None</td>\n",
       "      <td>&lt;p&gt;I agree with JJJ's answer that this is more...</td>\n",
       "    </tr>\n",
       "    <tr>\n",
       "      <th>1567</th>\n",
       "      <td>None</td>\n",
       "      <td>&lt;h2&gt;Is there a gender imbalance?&lt;/h2&gt;\\n\\n&lt;p&gt;No...</td>\n",
       "    </tr>\n",
       "    <tr>\n",
       "      <th>1569</th>\n",
       "      <td>None</td>\n",
       "      <td>&lt;p&gt;The original title was &lt;/p&gt;\\n\\n&lt;blockquote&gt;...</td>\n",
       "    </tr>\n",
       "    <tr>\n",
       "      <th>1570</th>\n",
       "      <td>None</td>\n",
       "      <td>&lt;p&gt;Question titles may not contain curse words...</td>\n",
       "    </tr>\n",
       "    <tr>\n",
       "      <th>1571</th>\n",
       "      <td>None</td>\n",
       "      <td>&lt;p&gt;I acknowledge that other editors seem to be...</td>\n",
       "    </tr>\n",
       "    <tr>\n",
       "      <th>1574</th>\n",
       "      <td>None</td>\n",
       "      <td>&lt;p&gt;The highly upvoted questions tend to be tho...</td>\n",
       "    </tr>\n",
       "    <tr>\n",
       "      <th>1576</th>\n",
       "      <td>None</td>\n",
       "      <td>&lt;p&gt;I think Philipp's actions are fine here. Th...</td>\n",
       "    </tr>\n",
       "    <tr>\n",
       "      <th>1577</th>\n",
       "      <td>None</td>\n",
       "      <td>&lt;p&gt;It's not really an edit war when a mod does...</td>\n",
       "    </tr>\n",
       "    <tr>\n",
       "      <th>1578</th>\n",
       "      <td>None</td>\n",
       "      <td>&lt;p&gt;First off, I edited your question to add so...</td>\n",
       "    </tr>\n",
       "    <tr>\n",
       "      <th>1579</th>\n",
       "      <td>None</td>\n",
       "      <td>&lt;p&gt;The left/right bias here on Politics is les...</td>\n",
       "    </tr>\n",
       "    <tr>\n",
       "      <th>1581</th>\n",
       "      <td>None</td>\n",
       "      <td>&lt;p&gt;Yes, users with very strong political leani...</td>\n",
       "    </tr>\n",
       "    <tr>\n",
       "      <th>1584</th>\n",
       "      <td>None</td>\n",
       "      <td>&lt;p&gt;First of all, why do we move comments to ch...</td>\n",
       "    </tr>\n",
       "    <tr>\n",
       "      <th>1586</th>\n",
       "      <td>None</td>\n",
       "      <td>&lt;p&gt;I flagged the comments because of phrases s...</td>\n",
       "    </tr>\n",
       "    <tr>\n",
       "      <th>1588</th>\n",
       "      <td>None</td>\n",
       "      <td>&lt;blockquote&gt;\\n  &lt;p&gt;Efforts to edit the questio...</td>\n",
       "    </tr>\n",
       "    <tr>\n",
       "      <th>1590</th>\n",
       "      <td>None</td>\n",
       "      <td>&lt;p&gt;I'd suggest making any examples seperate fr...</td>\n",
       "    </tr>\n",
       "    <tr>\n",
       "      <th>1591</th>\n",
       "      <td>None</td>\n",
       "      <td>&lt;p&gt;The problem that arises here is that this \"...</td>\n",
       "    </tr>\n",
       "    <tr>\n",
       "      <th>1593</th>\n",
       "      <td>None</td>\n",
       "      <td>&lt;p&gt;That's already possible, just go to &lt;a href...</td>\n",
       "    </tr>\n",
       "    <tr>\n",
       "      <th>1595</th>\n",
       "      <td>None</td>\n",
       "      <td>&lt;p&gt;Proposing an answer to my question: &lt;/p&gt;\\n\\...</td>\n",
       "    </tr>\n",
       "    <tr>\n",
       "      <th>1596</th>\n",
       "      <td>None</td>\n",
       "      <td>&lt;p&gt;ChrisF's answer &lt;a href=\"https://meta.stack...</td>\n",
       "    </tr>\n",
       "    <tr>\n",
       "      <th>1598</th>\n",
       "      <td>None</td>\n",
       "      <td>&lt;p&gt;I'd say it's impossible before a trial happ...</td>\n",
       "    </tr>\n",
       "    <tr>\n",
       "      <th>1599</th>\n",
       "      <td>None</td>\n",
       "      <td>&lt;p&gt;The problem with asking for reasons why Tru...</td>\n",
       "    </tr>\n",
       "    <tr>\n",
       "      <th>1604</th>\n",
       "      <td>None</td>\n",
       "      <td>&lt;h3&gt;A difference could be created, but doesn't...</td>\n",
       "    </tr>\n",
       "    <tr>\n",
       "      <th>1605</th>\n",
       "      <td>None</td>\n",
       "      <td>&lt;p&gt;Such brainstorming questions have several p...</td>\n",
       "    </tr>\n",
       "    <tr>\n",
       "      <th>1606</th>\n",
       "      <td>None</td>\n",
       "      <td>&lt;h3&gt;Proposed Criteria&lt;/h3&gt;\\n\\n&lt;p&gt;Can this ques...</td>\n",
       "    </tr>\n",
       "    <tr>\n",
       "      <th>1607</th>\n",
       "      <td>None</td>\n",
       "      <td>&lt;h3&gt;Short answer: Probably not without picking...</td>\n",
       "    </tr>\n",
       "    <tr>\n",
       "      <th>1608</th>\n",
       "      <td>None</td>\n",
       "      <td>&lt;p&gt;One potential correction is to ask about wh...</td>\n",
       "    </tr>\n",
       "  </tbody>\n",
       "</table>\n",
       "<p>1609 rows × 2 columns</p>\n",
       "</div>"
      ],
      "text/plain": [
       "     ViewCount                                               Body\n",
       "813         99  <p>Take a look at this question: <a href=\"http...\n",
       "1597        98  <p>Can anyone think of a way to ask for reason...\n",
       "976         97  <p>I've recently requested this question – <a ...\n",
       "1518        96  <p>Many question about the US government can a...\n",
       "1198        96  <p>What can I do about an answer that is accep...\n",
       "1151        96  <p>Some users ask (main) part of question in t...\n",
       "1143        96  <p>In response to this question, <a href=\"http...\n",
       "164         96  <p>After reaching public beta, I see more and ...\n",
       "1575        96  <p>The question originally called <a href=\"htt...\n",
       "916         96  <p>Over on RPG.SE, we are using a post notice ...\n",
       "1099        95  <p><a href=\"https://politics.stackexchange.com...\n",
       "524         95  <p>I find this kind of odd. The last question ...\n",
       "260         94  <p>Presently, Politics SE has a very strong US...\n",
       "1179        94  <p>At <a href=\"https://politics.stackexchange....\n",
       "709         93  <blockquote>\\n  <p>I watched the\\n  <a href=\"h...\n",
       "1309        92  <p>The Politics site inherits an administrativ...\n",
       "275         92  <p>When I hear the word \"politics\" I think of ...\n",
       "788         92  <p>Someone (or two someones?) just downvoted a...\n",
       "1026        92  <p>Hours ago I posted <a href=\"https://politic...\n",
       "0           90  <p>Some questions on this site are likely to b...\n",
       "168         90  <p>Some SE sites seem to dislike requests for ...\n",
       "342         90  <p><a href=\"https://politics.stackexchange.com...\n",
       "1015        90  <p>Why was <a href=\"https://politics.stackexch...\n",
       "1404        90  <p>Why was the comment \"none of this provides ...\n",
       "611          9  <p>It seems like when election returns come in...\n",
       "1096        89  <p>My <a href=\"https://politics.stackexchange....\n",
       "1288        89  <p>Example question: <a href=\"https://politics...\n",
       "802         89  <p>Why are questions about the practices and b...\n",
       "1466        89  <p><a href=\"https://politics.stackexchange.com...\n",
       "1088        88  <p>Update: the 3rd version of this question wa...\n",
       "...        ...                                                ...\n",
       "1559      None  <p>There were a couple problems with that comm...\n",
       "1561      None  <p>I do not think that civic is a synonym for ...\n",
       "1564      None  <p>I think your question has little bearing on...\n",
       "1565      None  <p>A few things that are irrelevant to the que...\n",
       "1566      None  <p>I agree with JJJ's answer that this is more...\n",
       "1567      None  <h2>Is there a gender imbalance?</h2>\\n\\n<p>No...\n",
       "1569      None  <p>The original title was </p>\\n\\n<blockquote>...\n",
       "1570      None  <p>Question titles may not contain curse words...\n",
       "1571      None  <p>I acknowledge that other editors seem to be...\n",
       "1574      None  <p>The highly upvoted questions tend to be tho...\n",
       "1576      None  <p>I think Philipp's actions are fine here. Th...\n",
       "1577      None  <p>It's not really an edit war when a mod does...\n",
       "1578      None  <p>First off, I edited your question to add so...\n",
       "1579      None  <p>The left/right bias here on Politics is les...\n",
       "1581      None  <p>Yes, users with very strong political leani...\n",
       "1584      None  <p>First of all, why do we move comments to ch...\n",
       "1586      None  <p>I flagged the comments because of phrases s...\n",
       "1588      None  <blockquote>\\n  <p>Efforts to edit the questio...\n",
       "1590      None  <p>I'd suggest making any examples seperate fr...\n",
       "1591      None  <p>The problem that arises here is that this \"...\n",
       "1593      None  <p>That's already possible, just go to <a href...\n",
       "1595      None  <p>Proposing an answer to my question: </p>\\n\\...\n",
       "1596      None  <p>ChrisF's answer <a href=\"https://meta.stack...\n",
       "1598      None  <p>I'd say it's impossible before a trial happ...\n",
       "1599      None  <p>The problem with asking for reasons why Tru...\n",
       "1604      None  <h3>A difference could be created, but doesn't...\n",
       "1605      None  <p>Such brainstorming questions have several p...\n",
       "1606      None  <h3>Proposed Criteria</h3>\\n\\n<p>Can this ques...\n",
       "1607      None  <h3>Short answer: Probably not without picking...\n",
       "1608      None  <p>One potential correction is to ask about wh...\n",
       "\n",
       "[1609 rows x 2 columns]"
      ]
     },
     "execution_count": 187,
     "metadata": {},
     "output_type": "execute_result"
    }
   ],
   "source": [
    "p_posts.sort_values(by=\"ViewCount\", ascending=False).loc[:,[\"ViewCount\",\"Body\"]]"
   ]
  },
  {
   "cell_type": "code",
   "execution_count": 10,
   "metadata": {},
   "outputs": [
    {
     "data": {
      "text/html": [
       "<div>\n",
       "<style scoped>\n",
       "    .dataframe tbody tr th:only-of-type {\n",
       "        vertical-align: middle;\n",
       "    }\n",
       "\n",
       "    .dataframe tbody tr th {\n",
       "        vertical-align: top;\n",
       "    }\n",
       "\n",
       "    .dataframe thead th {\n",
       "        text-align: right;\n",
       "    }\n",
       "</style>\n",
       "<table border=\"1\" class=\"dataframe\">\n",
       "  <thead>\n",
       "    <tr style=\"text-align: right;\">\n",
       "      <th></th>\n",
       "      <th>Id</th>\n",
       "      <th>PostHistoryTypeId</th>\n",
       "      <th>PostId</th>\n",
       "      <th>RevisionGUID</th>\n",
       "      <th>CreationDate</th>\n",
       "      <th>UserId</th>\n",
       "      <th>UserDisplayName</th>\n",
       "      <th>Comment</th>\n",
       "      <th>Text</th>\n",
       "      <th>CloseReasonId</th>\n",
       "    </tr>\n",
       "  </thead>\n",
       "  <tbody>\n",
       "    <tr>\n",
       "      <th>0</th>\n",
       "      <td>1</td>\n",
       "      <td>2</td>\n",
       "      <td>1</td>\n",
       "      <td>a64f186c-5925-4801-9b94-4f278ae96df3</td>\n",
       "      <td>2012-12-04T21:57:33.980</td>\n",
       "      <td>20</td>\n",
       "      <td>None</td>\n",
       "      <td>None</td>\n",
       "      <td>Some questions on this site are likely to be s...</td>\n",
       "      <td>None</td>\n",
       "    </tr>\n",
       "    <tr>\n",
       "      <th>1</th>\n",
       "      <td>2</td>\n",
       "      <td>1</td>\n",
       "      <td>1</td>\n",
       "      <td>a64f186c-5925-4801-9b94-4f278ae96df3</td>\n",
       "      <td>2012-12-04T21:57:33.980</td>\n",
       "      <td>20</td>\n",
       "      <td>None</td>\n",
       "      <td>None</td>\n",
       "      <td>How should we tag country-specific questions?</td>\n",
       "      <td>None</td>\n",
       "    </tr>\n",
       "  </tbody>\n",
       "</table>\n",
       "</div>"
      ],
      "text/plain": [
       "  Id PostHistoryTypeId PostId                          RevisionGUID  \\\n",
       "0  1                 2      1  a64f186c-5925-4801-9b94-4f278ae96df3   \n",
       "1  2                 1      1  a64f186c-5925-4801-9b94-4f278ae96df3   \n",
       "\n",
       "              CreationDate UserId UserDisplayName Comment  \\\n",
       "0  2012-12-04T21:57:33.980     20            None    None   \n",
       "1  2012-12-04T21:57:33.980     20            None    None   \n",
       "\n",
       "                                                Text CloseReasonId  \n",
       "0  Some questions on this site are likely to be s...          None  \n",
       "1      How should we tag country-specific questions?          None  "
      ]
     },
     "execution_count": 10,
     "metadata": {},
     "output_type": "execute_result"
    }
   ],
   "source": [
    "p_posthistory.head(2)"
   ]
  },
  {
   "cell_type": "code",
   "execution_count": 11,
   "metadata": {},
   "outputs": [
    {
     "data": {
      "text/html": [
       "<div>\n",
       "<style scoped>\n",
       "    .dataframe tbody tr th:only-of-type {\n",
       "        vertical-align: middle;\n",
       "    }\n",
       "\n",
       "    .dataframe tbody tr th {\n",
       "        vertical-align: top;\n",
       "    }\n",
       "\n",
       "    .dataframe thead th {\n",
       "        text-align: right;\n",
       "    }\n",
       "</style>\n",
       "<table border=\"1\" class=\"dataframe\">\n",
       "  <thead>\n",
       "    <tr style=\"text-align: right;\">\n",
       "      <th></th>\n",
       "      <th>Id</th>\n",
       "      <th>CreationDate</th>\n",
       "      <th>PostId</th>\n",
       "      <th>RelatedPostId</th>\n",
       "      <th>PostLinkTypeId</th>\n",
       "    </tr>\n",
       "  </thead>\n",
       "  <tbody>\n",
       "    <tr>\n",
       "      <th>0</th>\n",
       "      <td>18</td>\n",
       "      <td>2012-12-04T23:06:56.450</td>\n",
       "      <td>7</td>\n",
       "      <td>14</td>\n",
       "      <td>None</td>\n",
       "    </tr>\n",
       "    <tr>\n",
       "      <th>1</th>\n",
       "      <td>82</td>\n",
       "      <td>2012-12-05T10:21:19.943</td>\n",
       "      <td>40</td>\n",
       "      <td>3</td>\n",
       "      <td>None</td>\n",
       "    </tr>\n",
       "  </tbody>\n",
       "</table>\n",
       "</div>"
      ],
      "text/plain": [
       "   Id             CreationDate PostId RelatedPostId PostLinkTypeId\n",
       "0  18  2012-12-04T23:06:56.450      7            14           None\n",
       "1  82  2012-12-05T10:21:19.943     40             3           None"
      ]
     },
     "execution_count": 11,
     "metadata": {},
     "output_type": "execute_result"
    }
   ],
   "source": [
    "p_postslinks.head(2)"
   ]
  },
  {
   "cell_type": "code",
   "execution_count": 12,
   "metadata": {},
   "outputs": [
    {
     "data": {
      "text/html": [
       "<div>\n",
       "<style scoped>\n",
       "    .dataframe tbody tr th:only-of-type {\n",
       "        vertical-align: middle;\n",
       "    }\n",
       "\n",
       "    .dataframe tbody tr th {\n",
       "        vertical-align: top;\n",
       "    }\n",
       "\n",
       "    .dataframe thead th {\n",
       "        text-align: right;\n",
       "    }\n",
       "</style>\n",
       "<table border=\"1\" class=\"dataframe\">\n",
       "  <thead>\n",
       "    <tr style=\"text-align: right;\">\n",
       "      <th></th>\n",
       "      <th>Id</th>\n",
       "      <th>Reputation</th>\n",
       "      <th>CreationDate</th>\n",
       "      <th>DisplayName</th>\n",
       "      <th>EmailHash</th>\n",
       "      <th>LastAccessDate</th>\n",
       "      <th>WebsiteUrl</th>\n",
       "      <th>Location</th>\n",
       "      <th>Age</th>\n",
       "      <th>AboutMe</th>\n",
       "      <th>Views</th>\n",
       "      <th>UpVotes</th>\n",
       "      <th>DownVotes</th>\n",
       "    </tr>\n",
       "  </thead>\n",
       "  <tbody>\n",
       "    <tr>\n",
       "      <th>0</th>\n",
       "      <td>-1</td>\n",
       "      <td>1</td>\n",
       "      <td>2012-12-04T20:12:17.363</td>\n",
       "      <td>Community</td>\n",
       "      <td>None</td>\n",
       "      <td>2012-12-04T20:12:17.363</td>\n",
       "      <td>None</td>\n",
       "      <td>on the server farm</td>\n",
       "      <td>None</td>\n",
       "      <td>&lt;p&gt;Hi, I'm not really a person.&lt;/p&gt;\\n\\n&lt;p&gt;I'm ...</td>\n",
       "      <td>23</td>\n",
       "      <td>2</td>\n",
       "      <td>15</td>\n",
       "    </tr>\n",
       "    <tr>\n",
       "      <th>1</th>\n",
       "      <td>1</td>\n",
       "      <td>101</td>\n",
       "      <td>2012-12-04T20:30:56.000</td>\n",
       "      <td>Geoff Dalgas</td>\n",
       "      <td>None</td>\n",
       "      <td>2013-03-26T05:16:50.490</td>\n",
       "      <td>http://stackoverflow.com</td>\n",
       "      <td>Corvallis, OR</td>\n",
       "      <td>None</td>\n",
       "      <td>&lt;p&gt;Developer on the Stack Overflow team.  Find...</td>\n",
       "      <td>3</td>\n",
       "      <td>0</td>\n",
       "      <td>0</td>\n",
       "    </tr>\n",
       "  </tbody>\n",
       "</table>\n",
       "</div>"
      ],
      "text/plain": [
       "   Id Reputation             CreationDate   DisplayName EmailHash  \\\n",
       "0  -1          1  2012-12-04T20:12:17.363     Community      None   \n",
       "1   1        101  2012-12-04T20:30:56.000  Geoff Dalgas      None   \n",
       "\n",
       "            LastAccessDate                WebsiteUrl            Location  \\\n",
       "0  2012-12-04T20:12:17.363                      None  on the server farm   \n",
       "1  2013-03-26T05:16:50.490  http://stackoverflow.com       Corvallis, OR   \n",
       "\n",
       "    Age                                            AboutMe Views UpVotes  \\\n",
       "0  None  <p>Hi, I'm not really a person.</p>\\n\\n<p>I'm ...    23       2   \n",
       "1  None  <p>Developer on the Stack Overflow team.  Find...     3       0   \n",
       "\n",
       "  DownVotes  \n",
       "0        15  \n",
       "1         0  "
      ]
     },
     "execution_count": 12,
     "metadata": {},
     "output_type": "execute_result"
    }
   ],
   "source": [
    "p_users.head(2)"
   ]
  },
  {
   "cell_type": "code",
   "execution_count": 13,
   "metadata": {},
   "outputs": [
    {
     "data": {
      "text/html": [
       "<div>\n",
       "<style scoped>\n",
       "    .dataframe tbody tr th:only-of-type {\n",
       "        vertical-align: middle;\n",
       "    }\n",
       "\n",
       "    .dataframe tbody tr th {\n",
       "        vertical-align: top;\n",
       "    }\n",
       "\n",
       "    .dataframe thead th {\n",
       "        text-align: right;\n",
       "    }\n",
       "</style>\n",
       "<table border=\"1\" class=\"dataframe\">\n",
       "  <thead>\n",
       "    <tr style=\"text-align: right;\">\n",
       "      <th></th>\n",
       "      <th>PostId</th>\n",
       "      <th>VoteTypeId</th>\n",
       "      <th>CreationDate</th>\n",
       "      <th>UserId</th>\n",
       "      <th>BountyAmount</th>\n",
       "    </tr>\n",
       "  </thead>\n",
       "  <tbody>\n",
       "    <tr>\n",
       "      <th>0</th>\n",
       "      <td>1</td>\n",
       "      <td>2</td>\n",
       "      <td>2012-12-04</td>\n",
       "      <td>NaN</td>\n",
       "      <td>NaN</td>\n",
       "    </tr>\n",
       "    <tr>\n",
       "      <th>1</th>\n",
       "      <td>1</td>\n",
       "      <td>2</td>\n",
       "      <td>2012-12-04</td>\n",
       "      <td>NaN</td>\n",
       "      <td>NaN</td>\n",
       "    </tr>\n",
       "  </tbody>\n",
       "</table>\n",
       "</div>"
      ],
      "text/plain": [
       "   PostId  VoteTypeId CreationDate  UserId  BountyAmount\n",
       "0       1           2   2012-12-04     NaN           NaN\n",
       "1       1           2   2012-12-04     NaN           NaN"
      ]
     },
     "execution_count": 13,
     "metadata": {},
     "output_type": "execute_result"
    }
   ],
   "source": [
    "p_votes.head(2)"
   ]
  },
  {
   "cell_type": "code",
   "execution_count": 14,
   "metadata": {},
   "outputs": [
    {
     "data": {
      "text/html": [
       "<div>\n",
       "<style scoped>\n",
       "    .dataframe tbody tr th:only-of-type {\n",
       "        vertical-align: middle;\n",
       "    }\n",
       "\n",
       "    .dataframe tbody tr th {\n",
       "        vertical-align: top;\n",
       "    }\n",
       "\n",
       "    .dataframe thead th {\n",
       "        text-align: right;\n",
       "    }\n",
       "</style>\n",
       "<table border=\"1\" class=\"dataframe\">\n",
       "  <thead>\n",
       "    <tr style=\"text-align: right;\">\n",
       "      <th></th>\n",
       "      <th>Id</th>\n",
       "      <th>TagName</th>\n",
       "      <th>Count</th>\n",
       "      <th>ExcerptPostId</th>\n",
       "      <th>WikiPostId</th>\n",
       "    </tr>\n",
       "  </thead>\n",
       "  <tbody>\n",
       "    <tr>\n",
       "      <th>0</th>\n",
       "      <td>1</td>\n",
       "      <td>bug</td>\n",
       "      <td>14</td>\n",
       "      <td>None</td>\n",
       "      <td>None</td>\n",
       "    </tr>\n",
       "    <tr>\n",
       "      <th>1</th>\n",
       "      <td>2</td>\n",
       "      <td>feature-request</td>\n",
       "      <td>30</td>\n",
       "      <td>None</td>\n",
       "      <td>None</td>\n",
       "    </tr>\n",
       "  </tbody>\n",
       "</table>\n",
       "</div>"
      ],
      "text/plain": [
       "  Id          TagName Count ExcerptPostId WikiPostId\n",
       "0  1              bug    14          None       None\n",
       "1  2  feature-request    30          None       None"
      ]
     },
     "execution_count": 14,
     "metadata": {},
     "output_type": "execute_result"
    }
   ],
   "source": [
    "p_tags.head(2)"
   ]
  },
  {
   "cell_type": "code",
   "execution_count": 15,
   "metadata": {},
   "outputs": [
    {
     "data": {
      "text/plain": [
       "count            86\n",
       "unique           86\n",
       "top       etiquette\n",
       "freq              1\n",
       "Name: TagName, dtype: object"
      ]
     },
     "execution_count": 15,
     "metadata": {},
     "output_type": "execute_result"
    }
   ],
   "source": [
    "p_tags.iloc[:,1].describe()"
   ]
  },
  {
   "cell_type": "code",
   "execution_count": 16,
   "metadata": {},
   "outputs": [
    {
     "data": {
      "text/html": [
       "<div>\n",
       "<style scoped>\n",
       "    .dataframe tbody tr th:only-of-type {\n",
       "        vertical-align: middle;\n",
       "    }\n",
       "\n",
       "    .dataframe tbody tr th {\n",
       "        vertical-align: top;\n",
       "    }\n",
       "\n",
       "    .dataframe thead th {\n",
       "        text-align: right;\n",
       "    }\n",
       "</style>\n",
       "<table border=\"1\" class=\"dataframe\">\n",
       "  <thead>\n",
       "    <tr style=\"text-align: right;\">\n",
       "      <th></th>\n",
       "      <th>Id</th>\n",
       "      <th>Reputation</th>\n",
       "      <th>CreationDate</th>\n",
       "      <th>DisplayName</th>\n",
       "      <th>EmailHash</th>\n",
       "      <th>LastAccessDate</th>\n",
       "      <th>WebsiteUrl</th>\n",
       "      <th>Location</th>\n",
       "      <th>Age</th>\n",
       "      <th>AboutMe</th>\n",
       "      <th>Views</th>\n",
       "      <th>UpVotes</th>\n",
       "      <th>DownVotes</th>\n",
       "    </tr>\n",
       "  </thead>\n",
       "  <tbody>\n",
       "    <tr>\n",
       "      <th>0</th>\n",
       "      <td>-1</td>\n",
       "      <td>1</td>\n",
       "      <td>2013-01-23T19:59:06.150</td>\n",
       "      <td>Community</td>\n",
       "      <td>None</td>\n",
       "      <td>2013-01-23T19:59:06.150</td>\n",
       "      <td>http://meta.stackexchange.com/</td>\n",
       "      <td>on the server farm</td>\n",
       "      <td>None</td>\n",
       "      <td>&lt;p&gt;Hi, I'm not really a person.&lt;/p&gt;\\n\\n&lt;p&gt;I'm ...</td>\n",
       "      <td>0</td>\n",
       "      <td>10590</td>\n",
       "      <td>10305</td>\n",
       "    </tr>\n",
       "    <tr>\n",
       "      <th>1</th>\n",
       "      <td>1</td>\n",
       "      <td>101</td>\n",
       "      <td>2013-01-23T20:13:47.453</td>\n",
       "      <td>Geoff Dalgas</td>\n",
       "      <td>None</td>\n",
       "      <td>2014-09-22T17:44:09.233</td>\n",
       "      <td>http://stackoverflow.com</td>\n",
       "      <td>Corvallis, OR</td>\n",
       "      <td>None</td>\n",
       "      <td>&lt;p&gt;Developer on the Stack Overflow team.  Find...</td>\n",
       "      <td>3127</td>\n",
       "      <td>0</td>\n",
       "      <td>0</td>\n",
       "    </tr>\n",
       "  </tbody>\n",
       "</table>\n",
       "</div>"
      ],
      "text/plain": [
       "   Id Reputation             CreationDate   DisplayName EmailHash  \\\n",
       "0  -1          1  2013-01-23T19:59:06.150     Community      None   \n",
       "1   1        101  2013-01-23T20:13:47.453  Geoff Dalgas      None   \n",
       "\n",
       "            LastAccessDate                      WebsiteUrl  \\\n",
       "0  2013-01-23T19:59:06.150  http://meta.stackexchange.com/   \n",
       "1  2014-09-22T17:44:09.233        http://stackoverflow.com   \n",
       "\n",
       "             Location   Age  \\\n",
       "0  on the server farm  None   \n",
       "1       Corvallis, OR  None   \n",
       "\n",
       "                                             AboutMe Views UpVotes DownVotes  \n",
       "0  <p>Hi, I'm not really a person.</p>\\n\\n<p>I'm ...     0   10590     10305  \n",
       "1  <p>Developer on the Stack Overflow team.  Find...  3127       0         0  "
      ]
     },
     "execution_count": 16,
     "metadata": {},
     "output_type": "execute_result"
    }
   ],
   "source": [
    "e_users.head(2)"
   ]
  },
  {
   "cell_type": "code",
   "execution_count": 17,
   "metadata": {},
   "outputs": [
    {
     "data": {
      "text/html": [
       "<div>\n",
       "<style scoped>\n",
       "    .dataframe tbody tr th:only-of-type {\n",
       "        vertical-align: middle;\n",
       "    }\n",
       "\n",
       "    .dataframe tbody tr th {\n",
       "        vertical-align: top;\n",
       "    }\n",
       "\n",
       "    .dataframe thead th {\n",
       "        text-align: right;\n",
       "    }\n",
       "</style>\n",
       "<table border=\"1\" class=\"dataframe\">\n",
       "  <thead>\n",
       "    <tr style=\"text-align: right;\">\n",
       "      <th></th>\n",
       "      <th>Id</th>\n",
       "      <th>Reputation</th>\n",
       "      <th>CreationDate</th>\n",
       "      <th>DisplayName</th>\n",
       "      <th>EmailHash</th>\n",
       "      <th>LastAccessDate</th>\n",
       "      <th>WebsiteUrl</th>\n",
       "      <th>Location</th>\n",
       "      <th>Age</th>\n",
       "      <th>AboutMe</th>\n",
       "      <th>Views</th>\n",
       "      <th>UpVotes</th>\n",
       "      <th>DownVotes</th>\n",
       "    </tr>\n",
       "  </thead>\n",
       "  <tbody>\n",
       "    <tr>\n",
       "      <th>0</th>\n",
       "      <td>-1</td>\n",
       "      <td>1</td>\n",
       "      <td>2012-12-04T20:12:17.363</td>\n",
       "      <td>Community</td>\n",
       "      <td>None</td>\n",
       "      <td>2012-12-04T20:12:17.363</td>\n",
       "      <td>None</td>\n",
       "      <td>on the server farm</td>\n",
       "      <td>None</td>\n",
       "      <td>&lt;p&gt;Hi, I'm not really a person.&lt;/p&gt;\\n\\n&lt;p&gt;I'm ...</td>\n",
       "      <td>23</td>\n",
       "      <td>2</td>\n",
       "      <td>15</td>\n",
       "    </tr>\n",
       "    <tr>\n",
       "      <th>1</th>\n",
       "      <td>1</td>\n",
       "      <td>101</td>\n",
       "      <td>2012-12-04T20:30:56.000</td>\n",
       "      <td>Geoff Dalgas</td>\n",
       "      <td>None</td>\n",
       "      <td>2013-03-26T05:16:50.490</td>\n",
       "      <td>http://stackoverflow.com</td>\n",
       "      <td>Corvallis, OR</td>\n",
       "      <td>None</td>\n",
       "      <td>&lt;p&gt;Developer on the Stack Overflow team.  Find...</td>\n",
       "      <td>3</td>\n",
       "      <td>0</td>\n",
       "      <td>0</td>\n",
       "    </tr>\n",
       "  </tbody>\n",
       "</table>\n",
       "</div>"
      ],
      "text/plain": [
       "   Id Reputation             CreationDate   DisplayName EmailHash  \\\n",
       "0  -1          1  2012-12-04T20:12:17.363     Community      None   \n",
       "1   1        101  2012-12-04T20:30:56.000  Geoff Dalgas      None   \n",
       "\n",
       "            LastAccessDate                WebsiteUrl            Location  \\\n",
       "0  2012-12-04T20:12:17.363                      None  on the server farm   \n",
       "1  2013-03-26T05:16:50.490  http://stackoverflow.com       Corvallis, OR   \n",
       "\n",
       "    Age                                            AboutMe Views UpVotes  \\\n",
       "0  None  <p>Hi, I'm not really a person.</p>\\n\\n<p>I'm ...    23       2   \n",
       "1  None  <p>Developer on the Stack Overflow team.  Find...     3       0   \n",
       "\n",
       "  DownVotes  \n",
       "0        15  \n",
       "1         0  "
      ]
     },
     "execution_count": 17,
     "metadata": {},
     "output_type": "execute_result"
    }
   ],
   "source": [
    "p_users.head(2)"
   ]
  },
  {
   "cell_type": "code",
   "execution_count": 18,
   "metadata": {},
   "outputs": [
    {
     "data": {
      "text/html": [
       "<div>\n",
       "<style scoped>\n",
       "    .dataframe tbody tr th:only-of-type {\n",
       "        vertical-align: middle;\n",
       "    }\n",
       "\n",
       "    .dataframe tbody tr th {\n",
       "        vertical-align: top;\n",
       "    }\n",
       "\n",
       "    .dataframe thead th {\n",
       "        text-align: right;\n",
       "    }\n",
       "</style>\n",
       "<table border=\"1\" class=\"dataframe\">\n",
       "  <thead>\n",
       "    <tr style=\"text-align: right;\">\n",
       "      <th></th>\n",
       "      <th>DisplayName</th>\n",
       "      <th>Id_x</th>\n",
       "      <th>Id_y</th>\n",
       "    </tr>\n",
       "  </thead>\n",
       "  <tbody>\n",
       "    <tr>\n",
       "      <th>0</th>\n",
       "      <td>Community</td>\n",
       "      <td>-1</td>\n",
       "      <td>-1</td>\n",
       "    </tr>\n",
       "    <tr>\n",
       "      <th>1</th>\n",
       "      <td>Geoff Dalgas</td>\n",
       "      <td>1</td>\n",
       "      <td>1</td>\n",
       "    </tr>\n",
       "    <tr>\n",
       "      <th>2</th>\n",
       "      <td>Adam Lear</td>\n",
       "      <td>2</td>\n",
       "      <td>16</td>\n",
       "    </tr>\n",
       "    <tr>\n",
       "      <th>3</th>\n",
       "      <td>Jaydles</td>\n",
       "      <td>3</td>\n",
       "      <td>17</td>\n",
       "    </tr>\n",
       "    <tr>\n",
       "      <th>4</th>\n",
       "      <td>Robert Cartaino</td>\n",
       "      <td>5</td>\n",
       "      <td>48</td>\n",
       "    </tr>\n",
       "  </tbody>\n",
       "</table>\n",
       "</div>"
      ],
      "text/plain": [
       "       DisplayName Id_x Id_y\n",
       "0        Community   -1   -1\n",
       "1     Geoff Dalgas    1    1\n",
       "2        Adam Lear    2   16\n",
       "3          Jaydles    3   17\n",
       "4  Robert Cartaino    5   48"
      ]
     },
     "execution_count": 18,
     "metadata": {},
     "output_type": "execute_result"
    }
   ],
   "source": [
    "pd.merge(p_users, e_users, right_on=[\"DisplayName\",\"Location\", \"AboutMe\"], left_on=[\"DisplayName\",\"Location\", \"AboutMe\"]).loc[:,[\"DisplayName\",\"Id_x\",\"Id_y\"]].head()"
   ]
  },
  {
   "cell_type": "code",
   "execution_count": 19,
   "metadata": {},
   "outputs": [
    {
     "data": {
      "text/plain": [
       "10"
      ]
     },
     "execution_count": 19,
     "metadata": {},
     "output_type": "execute_result"
    }
   ],
   "source": [
    "e_users.iloc[:,7][1].rfind(\" \")"
   ]
  },
  {
   "cell_type": "code",
   "execution_count": 20,
   "metadata": {},
   "outputs": [],
   "source": [
    "USAstates = [\"AL\", \"AK\", \"AZ\", \"AR\", \"CA\", \"CO\", \"CT\", \"DC\", \"DE\", \"FL\", \"GA\", \n",
    "          \"HI\", \"ID\", \"IL\", \"IN\", \"IA\", \"KS\", \"KY\", \"LA\", \"ME\", \"MD\", \n",
    "          \"MA\", \"MI\", \"MN\", \"MS\", \"MO\", \"MT\", \"NE\", \"NV\", \"NH\", \"NJ\", \n",
    "          \"NM\", \"NY\", \"NC\", \"ND\", \"OH\", \"OK\", \"OR\", \"PA\", \"RI\", \"SC\", \n",
    "          \"SD\", \"TN\", \"TX\", \"UT\", \"VT\", \"VA\", \"WA\", \"WV\", \"WI\", \"WY\", \"USA\", \"US\", \"NYC\", \"NY\", \"New York\", \"USA\", \"United States\", \"United States of America\",\n",
    "            \"Alabama\",\"Alaska\",\"Arizona\",\"Arkansas\",\"California\",\"Colorado\",\n",
    "  \"Connecticut\",\"Delaware\",\"Florida\",\"Georgia\",\"Hawaii\",\"Idaho\",\"Illinois\",\n",
    "  \"Indiana\",\"Iowa\",\"Kansas\",\"Kentucky\",\"Louisiana\",\"Maine\",\"Maryland\",\n",
    "  \"Massachusetts\",\"Michigan\",\"Minnesota\",\"Mississippi\",\"Missouri\",\"Montana\",\n",
    "  \"Nebraska\",\"Nevada\",\"New Hampshire\",\"New Jersey\",\"New Mexico\",\"New York\",\n",
    "  \"North Carolina\",\"North Dakota\",\"Ohio\",\"Oklahoma\",\"Oregon\",\"Pennsylvania\",\n",
    "  \"Rhode Island\",\"South Carolina\",\"South Dakota\",\"Tennessee\",\"Texas\",\"Utah\",\n",
    "  \"Vermont\",\"Virginia\",\"Washington\",\"West Virginia\",\"Wisconsin\",\"Wyoming\"]\n",
    "\n",
    "adres = \"https://en.wikipedia.org/wiki/United_States\"\n",
    "res = pd.read_html(adres)\n",
    "USAcities=list(res[2].iloc[2:21,1])\n",
    "USAcities[5]='Washington'\n",
    "USA=USAstates+USAcities\n"
   ]
  },
  {
   "cell_type": "code",
   "execution_count": 21,
   "metadata": {},
   "outputs": [],
   "source": [
    "adres = \"https://en.wikipedia.org/wiki/Europe\"\n",
    "res = pd.read_html(adres)\n",
    "europe=res[2].loc[1:50,[2,6,7]]\n",
    "europe.columns=[\"English\", \"Capital\", \"Native\"]\n",
    "europe.iloc[48,2]=\"GB/UK/United Kingdom/England/Scotland/Ireland/Wales\"\n",
    "europe[\"English\"]=[p[0:p.find(\"[\")-1] if p.find(\"[\")!=-1 else p for p in europe.loc[:,\"English\"]]"
   ]
  },
  {
   "cell_type": "code",
   "execution_count": 22,
   "metadata": {},
   "outputs": [],
   "source": [
    "adres = \"https://en.wikipedia.org/wiki/Asia\"\n",
    "res = pd.read_html(adres)\n",
    "asia=res[5].loc[:,[2,5]].loc[1:,:]\n",
    "asia.columns=[\"country\",\"city\"]\n",
    "asia[\"country\"]=[p[0:p.find(\"[\")] if p.find(\"[\")!=-1 else p for p in asia.loc[:,\"country\"]]\n",
    "asia.iloc[8,0]=\"China\"\n",
    "asia.iloc[43,0]=\"Taiwan\""
   ]
  },
  {
   "cell_type": "code",
   "execution_count": null,
   "metadata": {},
   "outputs": [],
   "source": []
  },
  {
   "cell_type": "code",
   "execution_count": 23,
   "metadata": {},
   "outputs": [
    {
     "data": {
      "text/plain": [
       "country\n",
       "India             3142\n",
       "United States     1693\n",
       "United Kingdom     982\n",
       "Germany            737\n",
       "Russia             637\n",
       "USA                599\n",
       "Canada             540\n",
       "Brazil             499\n",
       "France             485\n",
       "China              430\n",
       "Australia          428\n",
       "Iran               398\n",
       "Ukraine            315\n",
       "CA                 288\n",
       "UK                 284\n",
       "Italy              267\n",
       "Poland             254\n",
       "Pakistan           247\n",
       "dtype: int64"
      ]
     },
     "execution_count": 23,
     "metadata": {},
     "output_type": "execute_result"
    }
   ],
   "source": [
    "country=[p[p.rfind(\",\")+1:].lstrip().rstrip() if type(p)==str else p for p in e_users.iloc[:,7]]\n",
    "e_users[\"country\"]=country\n",
    "e_users.groupby(\"country\").size().sort_values(ascending = False).head(18)"
   ]
  },
  {
   "cell_type": "code",
   "execution_count": null,
   "metadata": {},
   "outputs": [],
   "source": [
    "\n",
    "            "
   ]
  },
  {
   "cell_type": "code",
   "execution_count": 24,
   "metadata": {},
   "outputs": [],
   "source": [
    "\n",
    "#to bedzie mozna jakos lepiej zrobic\n",
    "country2=[0]*len(country)\n",
    "for i in range(len(country)):\n",
    "    if country[i] == None:\n",
    "        country2[i]= None\n",
    "    elif (country[i] in USA) or (sum([p in country[i] for p in USA])>0):\n",
    "        country2[i]='USA'\n",
    "    else:\n",
    "        test=list()\n",
    "        test2=list()\n",
    "        test3_asia=list()\n",
    "        test4_asia=list()\n",
    "        for j in range(europe.shape[0]):\n",
    "            test.append((country[i] in europe.iloc[j,1])+(country[i] in europe.iloc[j,2]))\n",
    "            test2.append((europe.iloc[j,1] in country[i])+sum([(p in country[i]) for p in europe.iloc[j,2].replace(\"(\",\" \").replace(\")\",\"\").replace(\"/\",\" \").split()if p!='i'])+ (europe.iloc[j,0] in country[i]))\n",
    "        for j in range(asia.shape[0]):\n",
    "            test3_asia.append((country[i] in asia.iloc[j,0])+(country[i] in asia.iloc[j,1]))\n",
    "            test4_asia.append((asia.iloc[j,0] in country[i])+sum([(p in country[i]) for p in asia.iloc[j,1].replace(\"(\",\" \").replace(\")\",\"\").replace(\"/\",\" \").split()if p!='i']))\n",
    "        if sum(test)==0 and sum(test2)==0 and sum(test3_asia)==0 and sum(test4_asia)==0:\n",
    "            country2[i]=country[i]\n",
    "        else:\n",
    "            if sum(test)>0:\n",
    "                country2[i]=europe.iloc[test.index(max(test)),0]\n",
    "            elif sum(test2)>0:\n",
    "                country2[i]=europe.iloc[test2.index(max(test2)),0]\n",
    "            elif sum(test3_asia)>0:\n",
    "                country2[i]=asia.iloc[test3_asia.index(max(test3_asia)),0]\n",
    "            elif sum(test4_asia)>0:\n",
    "                country2[i]=asia.iloc[test4_asia.index(max(test4_asia)),0]"
   ]
  },
  {
   "cell_type": "code",
   "execution_count": 25,
   "metadata": {},
   "outputs": [
    {
     "data": {
      "text/plain": [
       "country\n",
       "USA               4608\n",
       "India             3342\n",
       "United Kingdom    1474\n",
       "Germany            855\n",
       "Russia             754\n",
       "Canada             540\n",
       "France             509\n",
       "Brazil             499\n",
       "China              471\n",
       "Australia          428\n",
       "Iran               426\n",
       "Ukraine            333\n",
       "Italy              332\n",
       "Poland             323\n",
       "Netherlands        313\n",
       "Spain              292\n",
       "Turkey             291\n",
       "Pakistan           250\n",
       "Bangladesh         234\n",
       "Japan              230\n",
       "Brasil             203\n",
       "Vietnam            183\n",
       "Switzerland        160\n",
       "Indonesia          157\n",
       "Egypt              153\n",
       "Sweden             153\n",
       "Belgium            143\n",
       "Czech Republic     131\n",
       "Sri Lanka          129\n",
       "Israel             126\n",
       "South Korea        116\n",
       "Ireland            116\n",
       "Argentina          112\n",
       "Romania            105\n",
       "Taiwan             104\n",
       "Earth              102\n",
       "Singapore           99\n",
       "Mexico              99\n",
       "Hungary             97\n",
       "Denmark             95\n",
       "Philippines         94\n",
       "Malaysia            86\n",
       "Austria             85\n",
       "Thailand            84\n",
       "Belarus             83\n",
       "Colombia            81\n",
       "Portugal            79\n",
       "Norway              78\n",
       "Finland             74\n",
       "Chile               67\n",
       "dtype: int64"
      ]
     },
     "execution_count": 25,
     "metadata": {},
     "output_type": "execute_result"
    }
   ],
   "source": [
    "e_users[\"country\"]=country2\n",
    "e_users.groupby(\"country\").size().sort_values(ascending = False).head(50)"
   ]
  },
  {
   "cell_type": "code",
   "execution_count": null,
   "metadata": {},
   "outputs": [],
   "source": []
  },
  {
   "cell_type": "code",
   "execution_count": 26,
   "metadata": {},
   "outputs": [
    {
     "data": {
      "text/plain": [
       "country\n",
       "United States     197\n",
       "United Kingdom     95\n",
       "Germany            56\n",
       "USA                54\n",
       "Canada             39\n",
       "India              38\n",
       "Australia          37\n",
       "UK                 29\n",
       "Netherlands        27\n",
       "France             20\n",
       "CA                 19\n",
       "California         18\n",
       "Poland             16\n",
       "TX                 16\n",
       "Russia             15\n",
       "NY                 14\n",
       "Italy              12\n",
       "WA                 12\n",
       "dtype: int64"
      ]
     },
     "execution_count": 26,
     "metadata": {},
     "output_type": "execute_result"
    }
   ],
   "source": [
    "country=[p[p.rfind(\",\")+1:].lstrip().rstrip() if p!=None else p for p in p_users.iloc[:,7]]\n",
    "p_users[\"country\"]=country\n",
    "p_users.groupby(\"country\").size().sort_values(ascending = False).head(18)    "
   ]
  },
  {
   "cell_type": "code",
   "execution_count": 27,
   "metadata": {},
   "outputs": [],
   "source": [
    "\n",
    "#to bedzie mozna jakos lepiej zrobic\n",
    "country2=[0]*len(country)\n",
    "for i in range(len(country)):\n",
    "    if country[i] == None:\n",
    "        country2[i]= None\n",
    "    elif (country[i] in USA) or (sum([p in country[i] for p in USA])>0):\n",
    "        country2[i]='USA'\n",
    "    else:\n",
    "        test=list()\n",
    "        test2=list()\n",
    "        test3_asia=list()\n",
    "        test4_asia=list()\n",
    "        for j in range(europe.shape[0]):\n",
    "            test.append((country[i] in europe.iloc[j,1])+(country[i] in europe.iloc[j,2]))\n",
    "            test2.append((europe.iloc[j,1] in country[i])+sum([(p in country[i]) for p in europe.iloc[j,2].replace(\"(\",\" \").replace(\")\",\"\").replace(\"/\",\" \").split()if p!='i'])+ (europe.iloc[j,0] in country[i]))\n",
    "        for j in range(asia.shape[0]):\n",
    "            test3_asia.append((country[i] in asia.iloc[j,0])+(country[i] in asia.iloc[j,1]))\n",
    "            test4_asia.append((asia.iloc[j,0] in country[i])+sum([(p in country[i]) for p in asia.iloc[j,1].replace(\"(\",\" \").replace(\")\",\"\").replace(\"/\",\" \").split()if p!='i']))\n",
    "        if sum(test)==0 and sum(test2)==0 and sum(test3_asia)==0 and sum(test4_asia)==0:\n",
    "            country2[i]=country[i]\n",
    "        else:\n",
    "            if sum(test)>0:\n",
    "                country2[i]=europe.iloc[test.index(max(test)),0]\n",
    "            elif sum(test2)>0:\n",
    "                country2[i]=europe.iloc[test2.index(max(test2)),0]\n",
    "            elif sum(test3_asia)>0:\n",
    "                country2[i]=asia.iloc[test3_asia.index(max(test3_asia)),0]\n",
    "            elif sum(test4_asia)>0:\n",
    "                country2[i]=asia.iloc[test4_asia.index(max(test4_asia)),0]"
   ]
  },
  {
   "cell_type": "code",
   "execution_count": 28,
   "metadata": {},
   "outputs": [
    {
     "data": {
      "text/plain": [
       "country\n",
       "USA               506\n",
       "United Kingdom    138\n",
       "Germany            64\n",
       "India              50\n",
       "Canada             39\n",
       "Australia          37\n",
       "Netherlands        33\n",
       "France             21\n",
       "Russia             18\n",
       "Poland             16\n",
       "Italy              14\n",
       "Sweden             12\n",
       "Earth              10\n",
       "Finland             9\n",
       "Europe              9\n",
       "Switzerland         9\n",
       "Brazil              8\n",
       "Japan               8\n",
       "Czech Republic      8\n",
       "Iran                8\n",
       "Spain               8\n",
       "Turkey              7\n",
       "Israel              7\n",
       "Denmark             6\n",
       "Norway              6\n",
       "Ukraine             6\n",
       "Romania             6\n",
       "Belgium             6\n",
       "dtype: int64"
      ]
     },
     "execution_count": 28,
     "metadata": {},
     "output_type": "execute_result"
    }
   ],
   "source": [
    "p_users[\"country\"]=country2\n",
    "p_users.groupby(\"country\").size().sort_values(ascending = False).head(28)  "
   ]
  },
  {
   "cell_type": "code",
   "execution_count": 29,
   "metadata": {},
   "outputs": [
    {
     "data": {
      "text/plain": [
       "country\n",
       "United States     336\n",
       "India             330\n",
       "United Kingdom    232\n",
       "Germany           128\n",
       "Canada            100\n",
       "USA                92\n",
       "Australia          84\n",
       "France             67\n",
       "Netherlands        53\n",
       "UK                 52\n",
       "CA                 43\n",
       "Italy              35\n",
       "NY                 32\n",
       "Belgium            32\n",
       "Poland             31\n",
       "Brazil             30\n",
       "Russia             27\n",
       "Sweden             26\n",
       "dtype: int64"
      ]
     },
     "execution_count": 29,
     "metadata": {},
     "output_type": "execute_result"
    }
   ],
   "source": [
    "country=[p[p.rfind(\",\")+1:].lstrip().rstrip() if p!=None else p for p in m_users.iloc[:,7]]\n",
    "m_users[\"country\"]=country\n",
    "m_users.groupby(\"country\").size().sort_values(ascending = False).head(18)    "
   ]
  },
  {
   "cell_type": "code",
   "execution_count": 30,
   "metadata": {},
   "outputs": [],
   "source": [
    "#to bedzie mozna jakos lepiej zrobic\n",
    "country2=[0]*len(country)\n",
    "for i in range(len(country)):\n",
    "    if country[i] == None:\n",
    "        country2[i]= None\n",
    "    elif (country[i] in USA) or (sum([p in country[i] for p in USA])>0):\n",
    "        country2[i]='USA'\n",
    "    else:\n",
    "        test=list()\n",
    "        test2=list()\n",
    "        test3_asia=list()\n",
    "        test4_asia=list()\n",
    "        for j in range(europe.shape[0]):\n",
    "            test.append((country[i] in europe.iloc[j,1])+(country[i] in europe.iloc[j,2]))\n",
    "            test2.append((europe.iloc[j,1] in country[i])+sum([(p in country[i]) for p in europe.iloc[j,2].replace(\"(\",\" \").replace(\")\",\"\").replace(\"/\",\" \").split()if p!='i'])+ (europe.iloc[j,0] in country[i]))\n",
    "        for j in range(asia.shape[0]):\n",
    "            test3_asia.append((country[i] in asia.iloc[j,0])+(country[i] in asia.iloc[j,1]))\n",
    "            test4_asia.append((asia.iloc[j,0] in country[i])+sum([(p in country[i]) for p in asia.iloc[j,1].replace(\"(\",\" \").replace(\")\",\"\").replace(\"/\",\" \").split()if p!='i']))\n",
    "        if sum(test)==0 and sum(test2)==0 and sum(test3_asia)==0 and sum(test4_asia)==0:\n",
    "            country2[i]=country[i]\n",
    "        else:\n",
    "            if sum(test)>0:\n",
    "                country2[i]=europe.iloc[test.index(max(test)),0]\n",
    "            elif sum(test2)>0:\n",
    "                country2[i]=europe.iloc[test2.index(max(test2)),0]\n",
    "            elif sum(test3_asia)>0:\n",
    "                country2[i]=asia.iloc[test3_asia.index(max(test3_asia)),0]\n",
    "            elif sum(test4_asia)>0:\n",
    "                country2[i]=asia.iloc[test4_asia.index(max(test4_asia)),0]"
   ]
  },
  {
   "cell_type": "code",
   "execution_count": 31,
   "metadata": {},
   "outputs": [
    {
     "data": {
      "text/plain": [
       "country\n",
       "USA               952\n",
       "India             357\n",
       "United Kingdom    320\n",
       "Germany           150\n",
       "Canada            100\n",
       "Australia          84\n",
       "France             71\n",
       "Netherlands        66\n",
       "Belgium            39\n",
       "Italy              37\n",
       "Poland             34\n",
       "Brazil             30\n",
       "Russia             27\n",
       "Sweden             27\n",
       "Earth              25\n",
       "Spain              24\n",
       "Ireland            23\n",
       "Pakistan           20\n",
       "Switzerland        20\n",
       "Turkey             18\n",
       "Romania            18\n",
       "Iran               17\n",
       "Czech Republic     17\n",
       "Sri Lanka          17\n",
       "Norway             15\n",
       "Greece             14\n",
       "Hungary            14\n",
       "South Africa       14\n",
       "dtype: int64"
      ]
     },
     "execution_count": 31,
     "metadata": {},
     "output_type": "execute_result"
    }
   ],
   "source": [
    "m_users[\"country\"]=country2\n",
    "m_users.groupby(\"country\").size().sort_values(ascending = False).head(28)  "
   ]
  },
  {
   "cell_type": "code",
   "execution_count": 32,
   "metadata": {},
   "outputs": [],
   "source": [
    "for p in range(p_tags.shape[0]):\n",
    "    p_tags.Count[p]=int(p_tags.Count[p])"
   ]
  },
  {
   "cell_type": "code",
   "execution_count": 33,
   "metadata": {},
   "outputs": [],
   "source": [
    "for p in range(e_tags.shape[0]):\n",
    "    e_tags.Count[p]=int(e_tags.Count[p])"
   ]
  },
  {
   "cell_type": "markdown",
   "metadata": {},
   "source": [
    "# Wykresy najbardziej popularnych tagow"
   ]
  },
  {
   "cell_type": "markdown",
   "metadata": {},
   "source": [
    "# ell - n najbardziej popularnych tagow wraz z licznosci awystapien"
   ]
  },
  {
   "cell_type": "code",
   "execution_count": 49,
   "metadata": {},
   "outputs": [
    {
     "data": {
      "text/html": [
       "<iframe id=\"igraph\" scrolling=\"no\" style=\"border:none;\" seamless=\"seamless\" src=\"https://plot.ly/~asiacz/14.embed\" height=\"525px\" width=\"100%\"></iframe>"
      ],
      "text/plain": [
       "<plotly.tools.PlotlyDisplay object>"
      ]
     },
     "execution_count": 49,
     "metadata": {},
     "output_type": "execute_result"
    }
   ],
   "source": [
    "import plotly.plotly as py\n",
    "import plotly.graph_objs as go\n",
    "n=10\n",
    "df=e_tags.sort_values(by=\"Count\", ascending = False).head(n)\n",
    "data = [go.Bar(\n",
    "            x=df.TagName,\n",
    "            y=df.Count\n",
    "    )]\n",
    "\n",
    "py.iplot(data, filename='basic-bar')"
   ]
  },
  {
   "cell_type": "markdown",
   "metadata": {},
   "source": [
    "# poli - n najbardziej popularnych tagow wraz z licznosci awystapien"
   ]
  },
  {
   "cell_type": "code",
   "execution_count": 50,
   "metadata": {},
   "outputs": [
    {
     "data": {
      "text/html": [
       "<iframe id=\"igraph\" scrolling=\"no\" style=\"border:none;\" seamless=\"seamless\" src=\"https://plot.ly/~asiacz/14.embed\" height=\"525px\" width=\"100%\"></iframe>"
      ],
      "text/plain": [
       "<plotly.tools.PlotlyDisplay object>"
      ]
     },
     "execution_count": 50,
     "metadata": {},
     "output_type": "execute_result"
    }
   ],
   "source": [
    "import plotly.plotly as py\n",
    "import plotly.graph_objs as go\n",
    "n=10\n",
    "df=p_tags.sort_values(by=\"Count\", ascending = False).head(n)\n",
    "data = [go.Bar(\n",
    "            x=df.TagName,\n",
    "            y=df.Count\n",
    "    )]\n",
    "\n",
    "py.iplot(data, filename='basic-bar')"
   ]
  },
  {
   "cell_type": "markdown",
   "metadata": {},
   "source": [
    "# movies - n najbardziej popularnych tagow wraz z licznosci awystapien"
   ]
  },
  {
   "cell_type": "code",
   "execution_count": 51,
   "metadata": {},
   "outputs": [
    {
     "data": {
      "text/html": [
       "<iframe id=\"igraph\" scrolling=\"no\" style=\"border:none;\" seamless=\"seamless\" src=\"https://plot.ly/~asiacz/14.embed\" height=\"525px\" width=\"100%\"></iframe>"
      ],
      "text/plain": [
       "<plotly.tools.PlotlyDisplay object>"
      ]
     },
     "execution_count": 51,
     "metadata": {},
     "output_type": "execute_result"
    }
   ],
   "source": [
    "import plotly.plotly as py\n",
    "import plotly.graph_objs as go\n",
    "n=10\n",
    "df=m_tags.sort_values(by=\"Count\", ascending = False).head(n)\n",
    "data = [go.Bar(\n",
    "            x=df.TagName,\n",
    "            y=df.Count\n",
    "    )]\n",
    "\n",
    "py.iplot(data, filename='basic-bar')"
   ]
  },
  {
   "cell_type": "code",
   "execution_count": 53,
   "metadata": {},
   "outputs": [],
   "source": [
    "n_of_countries=10\n",
    "n_of_tags=4\n",
    "Questions = e_posts.loc[e_posts.PostTypeId=='1'].reset_index()\n",
    "Questions[\"TagList\"]=[p.replace(\"<\",\"\").replace(\">\",\" \").lstrip().rstrip().split(\" \") for p in Questions.Tags]\n",
    "\n",
    "tags=list()\n",
    "id=list()\n",
    "\n",
    "for i in range(Questions.shape[0]):\n",
    "    tags=tags+Questions.TagList[i]\n",
    "    id=id+[Questions.Id[i]]*len(Questions.TagList[i])\n",
    "    \n",
    "x=pd.DataFrame(id,tags).reset_index()\n",
    "x.columns=[\"tag\",\"Id\"]\n",
    "\n",
    "Questions2=pd.merge(x,Questions,left_on=\"Id\", right_on=\"Id\")\n",
    "\n",
    "k=pd.merge(Questions2,e_users,left_on=\"OwnerUserId\", right_on=\"Id\")\n",
    "\n",
    "countries=k.groupby(by=\"country\").size().sort_values(ascending=False).index[0:n_of_countries]\n",
    "country_tag_group=k.groupby([\"country\",\"tag\"]).size().unstack().reset_index()\n",
    "#for p in europe.iloc[:,0]:\n",
    "\n",
    "lista=list()\n",
    "lista2=list()\n",
    "\n",
    "for p in countries:\n",
    "    pol_tag=country_tag_group.loc[country_tag_group.country.values==p].reset_index().iloc[0,1:].reset_index()\n",
    "    pol_tag.columns=[\"tag\",\"numb\"]\n",
    "    lista2.append(pol_tag)\n",
    "    lista.append(pol_tag.loc[1:,].sort_values(by=\"numb\",ascending=False).iloc[0:n_of_tags,])\n",
    "    \n",
    "tagi_mapa=list()\n",
    "\n",
    "for i in range(len(countries)):\n",
    "               tagi_mapa=tagi_mapa+list(lista[i].tag)\n",
    "        \n",
    "tagi=list(set(tagi_mapa)) #tagi, ktore pojawiaja sie powyzej\n",
    "\n",
    "mapa=pd.DataFrame(np.r_[[0]*len(countries)*len(tagi)].reshape(len(countries),len(tagi)))\n",
    "mapa.columns=tagi\n",
    "mapa.index=countries\n",
    "\n",
    "for p in range(len(countries)):\n",
    "    for t in tagi:\n",
    "        if np.isnan(lista2[p].loc[lista2[p].tag==t,'numb'].iloc[0])==False:\n",
    "            mapa.loc[countries[p],t]=lista2[p].loc[lista2[p].tag==t,'numb'].iloc[0]"
   ]
  },
  {
   "cell_type": "code",
   "execution_count": 55,
   "metadata": {},
   "outputs": [
    {
     "data": {
      "image/png": "[encoded data removed]",
      "text/plain": [
       "<Figure size 432x288 with 2 Axes>"
      ]
     },
     "metadata": {
      "needs_background": "light"
     },
     "output_type": "display_data"
    }
   ],
   "source": [
    "import seaborn as sns\n",
    "ax = sns.heatmap(mapa)"
   ]
  },
  {
   "cell_type": "code",
   "execution_count": 70,
   "metadata": {},
   "outputs": [
    {
     "data": {
      "image/png": "[encoded data removed]",
      "text/plain": [
       "<Figure size 432x288 with 2 Axes>"
      ]
     },
     "metadata": {
      "needs_background": "light"
     },
     "output_type": "display_data"
    }
   ],
   "source": [
    "ax = sns.heatmap(mapa,center=240)"
   ]
  },
  {
   "cell_type": "code",
   "execution_count": 62,
   "metadata": {},
   "outputs": [
    {
     "data": {
      "text/html": [
       "<iframe id=\"igraph\" scrolling=\"no\" style=\"border:none;\" seamless=\"seamless\" src=\"https://plot.ly/~asiacz/2.embed\" height=\"525px\" width=\"100%\"></iframe>"
      ],
      "text/plain": [
       "<plotly.tools.PlotlyDisplay object>"
      ]
     },
     "execution_count": 62,
     "metadata": {},
     "output_type": "execute_result"
    }
   ],
   "source": [
    "import plotly\n",
    "import plotly.plotly as py\n",
    "plotly.tools.set_credentials_file(username='asiacz', api_key='Fd7M4iS81fCCLQyiiJb3')\n",
    "import plotly.graph_objs as go\n",
    "\n",
    "trace = go.Heatmap(z=np.array(mapa),\n",
    "                   x=list(mapa.columns),\n",
    "                   y=list(mapa.index))\n",
    "data=[trace]\n",
    "py.iplot(data, filename='labelled-heatmap')\n"
   ]
  },
  {
   "cell_type": "markdown",
   "metadata": {},
   "source": [
    "# poli"
   ]
  },
  {
   "cell_type": "code",
   "execution_count": 106,
   "metadata": {},
   "outputs": [],
   "source": [
    "n_of_countries=10\n",
    "n_of_tags=4\n",
    "Questions = p_posts.loc[e_posts.PostTypeId=='1'].reset_index()\n",
    "Questions=Questions.iloc[Questions.Tags.values!=None,:]\n",
    "Questions[\"TagList\"]=[p.replace(\"<\",\"\").replace(\">\",\" \").lstrip().rstrip().split(\" \") for p in Questions.Tags ]\n",
    "\n",
    "tags=list()\n",
    "id=list()\n",
    "\n",
    "for i in range(Questions.shape[0]):\n",
    "    tags=tags+Questions.TagList.iloc[i]\n",
    "    id=id+[Questions.Id.iloc[i]]*len(Questions.TagList.iloc[i])\n",
    "    \n",
    "x=pd.DataFrame(id,tags).reset_index()\n",
    "x.columns=[\"tag\",\"Id\"]\n",
    "\n",
    "Questions2=pd.merge(x,Questions,left_on=\"Id\", right_on=\"Id\")\n",
    "\n",
    "k=pd.merge(Questions2,e_users,left_on=\"OwnerUserId\", right_on=\"Id\")\n",
    "\n",
    "countries=k.groupby(by=\"country\").size().sort_values(ascending=False).index[0:n_of_countries]\n",
    "country_tag_group=k.groupby([\"country\",\"tag\"]).size().unstack().reset_index()\n",
    "#for p in europe.iloc[:,0]:\n",
    "\n",
    "lista=list()\n",
    "lista2=list()\n",
    "\n",
    "for p in countries:\n",
    "    pol_tag=country_tag_group.loc[country_tag_group.country.values==p].reset_index().iloc[0,1:].reset_index()\n",
    "    pol_tag.columns=[\"tag\",\"numb\"]\n",
    "    lista2.append(pol_tag)\n",
    "    lista.append(pol_tag.loc[1:,].sort_values(by=\"numb\",ascending=False).iloc[0:n_of_tags,])\n",
    "    \n",
    "tagi_mapa=list()\n",
    "\n",
    "for i in range(len(countries)):\n",
    "               tagi_mapa=tagi_mapa+list(lista[i].tag)\n",
    "        \n",
    "tagi=list(set(tagi_mapa)) #tagi, ktore pojawiaja sie powyzej\n",
    "\n",
    "mapa=pd.DataFrame(np.r_[[0]*len(countries)*len(tagi)].reshape(len(countries),len(tagi)))\n",
    "mapa.columns=tagi\n",
    "mapa.index=countries\n",
    "\n",
    "for p in range(len(countries)):\n",
    "    for t in tagi:\n",
    "        if np.isnan(lista2[p].loc[lista2[p].tag==t,'numb'].iloc[0])==False:\n",
    "            mapa.loc[countries[p],t]=lista2[p].loc[lista2[p].tag==t,'numb'].iloc[0]"
   ]
  },
  {
   "cell_type": "code",
   "execution_count": 109,
   "metadata": {},
   "outputs": [
    {
     "data": {
      "text/html": [
       "<iframe id=\"igraph\" scrolling=\"no\" style=\"border:none;\" seamless=\"seamless\" src=\"https://plot.ly/~asiacz/2.embed\" height=\"525px\" width=\"100%\"></iframe>"
      ],
      "text/plain": [
       "<plotly.tools.PlotlyDisplay object>"
      ]
     },
     "execution_count": 109,
     "metadata": {},
     "output_type": "execute_result"
    },
    {
     "data": {
      "image/png": "[encoded data removed]",
      "text/plain": [
       "<Figure size 432x288 with 2 Axes>"
      ]
     },
     "metadata": {
      "needs_background": "light"
     },
     "output_type": "display_data"
    }
   ],
   "source": [
    "import seaborn as sns\n",
    "ax = sns.heatmap(mapa)\n",
    "\n",
    "import plotly\n",
    "import plotly.plotly as py\n",
    "plotly.tools.set_credentials_file(username='asiacz', api_key='Fd7M4iS81fCCLQyiiJb3')\n",
    "import plotly.graph_objs as go\n",
    "\n",
    "trace = go.Heatmap(z=np.array(mapa),\n",
    "                   x=list(mapa.columns),\n",
    "                   y=list(mapa.index))\n",
    "data=[trace]\n",
    "py.iplot(data, filename='labelled-heatmap')"
   ]
  },
  {
   "cell_type": "code",
   "execution_count": 113,
   "metadata": {},
   "outputs": [
    {
     "data": {
      "image/png": "[encoded data removed]",
      "text/plain": [
       "<Figure size 432x288 with 2 Axes>"
      ]
     },
     "metadata": {
      "needs_background": "light"
     },
     "output_type": "display_data"
    }
   ],
   "source": [
    "ax = sns.heatmap(mapa,center=5)"
   ]
  },
  {
   "cell_type": "markdown",
   "metadata": {},
   "source": [
    "# movies"
   ]
  },
  {
   "cell_type": "code",
   "execution_count": 114,
   "metadata": {},
   "outputs": [],
   "source": [
    "n_of_countries=10\n",
    "n_of_tags=4\n",
    "Questions = m_posts.loc[e_posts.PostTypeId=='1'].reset_index()\n",
    "Questions=Questions.iloc[Questions.Tags.values!=None,:]\n",
    "Questions[\"TagList\"]=[p.replace(\"<\",\"\").replace(\">\",\" \").lstrip().rstrip().split(\" \") for p in Questions.Tags ]\n",
    "\n",
    "tags=list()\n",
    "id=list()\n",
    "\n",
    "for i in range(Questions.shape[0]):\n",
    "    tags=tags+Questions.TagList.iloc[i]\n",
    "    id=id+[Questions.Id.iloc[i]]*len(Questions.TagList.iloc[i])\n",
    "    \n",
    "x=pd.DataFrame(id,tags).reset_index()\n",
    "x.columns=[\"tag\",\"Id\"]\n",
    "\n",
    "Questions2=pd.merge(x,Questions,left_on=\"Id\", right_on=\"Id\")\n",
    "\n",
    "k=pd.merge(Questions2,e_users,left_on=\"OwnerUserId\", right_on=\"Id\")\n",
    "\n",
    "countries=k.groupby(by=\"country\").size().sort_values(ascending=False).index[0:n_of_countries]\n",
    "country_tag_group=k.groupby([\"country\",\"tag\"]).size().unstack().reset_index()\n",
    "#for p in europe.iloc[:,0]:\n",
    "\n",
    "lista=list()\n",
    "lista2=list()\n",
    "\n",
    "for p in countries:\n",
    "    pol_tag=country_tag_group.loc[country_tag_group.country.values==p].reset_index().iloc[0,1:].reset_index()\n",
    "    pol_tag.columns=[\"tag\",\"numb\"]\n",
    "    lista2.append(pol_tag)\n",
    "    lista.append(pol_tag.loc[1:,].sort_values(by=\"numb\",ascending=False).iloc[0:n_of_tags,])\n",
    "    \n",
    "tagi_mapa=list()\n",
    "\n",
    "for i in range(len(countries)):\n",
    "               tagi_mapa=tagi_mapa+list(lista[i].tag)\n",
    "        \n",
    "tagi=list(set(tagi_mapa)) #tagi, ktore pojawiaja sie powyzej\n",
    "\n",
    "mapa=pd.DataFrame(np.r_[[0]*len(countries)*len(tagi)].reshape(len(countries),len(tagi)))\n",
    "mapa.columns=tagi\n",
    "mapa.index=countries\n",
    "\n",
    "for p in range(len(countries)):\n",
    "    for t in tagi:\n",
    "        if np.isnan(lista2[p].loc[lista2[p].tag==t,'numb'].iloc[0])==False:\n",
    "            mapa.loc[countries[p],t]=lista2[p].loc[lista2[p].tag==t,'numb'].iloc[0]"
   ]
  },
  {
   "cell_type": "code",
   "execution_count": 115,
   "metadata": {},
   "outputs": [
    {
     "data": {
      "text/html": [
       "<iframe id=\"igraph\" scrolling=\"no\" style=\"border:none;\" seamless=\"seamless\" src=\"https://plot.ly/~asiacz/2.embed\" height=\"525px\" width=\"100%\"></iframe>"
      ],
      "text/plain": [
       "<plotly.tools.PlotlyDisplay object>"
      ]
     },
     "execution_count": 115,
     "metadata": {},
     "output_type": "execute_result"
    },
    {
     "data": {
      "image/png": "[encoded data removed]",
      "text/plain": [
       "<Figure size 432x288 with 2 Axes>"
      ]
     },
     "metadata": {
      "needs_background": "light"
     },
     "output_type": "display_data"
    }
   ],
   "source": [
    "import seaborn as sns\n",
    "ax = sns.heatmap(mapa)\n",
    "\n",
    "import plotly\n",
    "import plotly.plotly as py\n",
    "plotly.tools.set_credentials_file(username='asiacz', api_key='Fd7M4iS81fCCLQyiiJb3')\n",
    "import plotly.graph_objs as go\n",
    "\n",
    "trace = go.Heatmap(z=np.array(mapa),\n",
    "                   x=list(mapa.columns),\n",
    "                   y=list(mapa.index))\n",
    "data=[trace]\n",
    "py.iplot(data, filename='labelled-heatmap')"
   ]
  },
  {
   "cell_type": "code",
   "execution_count": 118,
   "metadata": {},
   "outputs": [
    {
     "data": {
      "image/png": "[encoded data removed]",
      "text/plain": [
       "<Figure size 432x288 with 2 Axes>"
      ]
     },
     "metadata": {
      "needs_background": "light"
     },
     "output_type": "display_data"
    }
   ],
   "source": [
    "ax = sns.heatmap(mapa,center=38)"
   ]
  },
  {
   "cell_type": "markdown",
   "metadata": {},
   "source": [
    "# wykresy licznosci postow w zaleznosci od kraju - one musza byc razem, bo pokazuja, gdzie sie uczy ang (z usa np jest duzo odp)"
   ]
  },
  {
   "cell_type": "markdown",
   "metadata": {},
   "source": [
    "# ell"
   ]
  },
  {
   "cell_type": "code",
   "execution_count": 132,
   "metadata": {},
   "outputs": [],
   "source": [
    "n=10\n",
    "all_posts=pd.merge(e_posts, e_users, left_on=\"OwnerUserId\", right_on=\"Id\").groupby(by=\"country\").size().sort_values(ascending=False).reset_index()\n",
    "#liczba postow z danego kraju\n",
    "q=pd.merge(e_posts.loc[e_posts.PostTypeId.values=='1'], e_users, left_on=\"OwnerUserId\", right_on=\"Id\").groupby(by=\"country\").size().sort_values(ascending=False).reset_index()\n",
    "#liczba pytan z danego kraju\n",
    "ans=pd.merge(e_posts.loc[e_posts.PostTypeId.values=='2'], e_users, left_on=\"OwnerUserId\", right_on=\"Id\").groupby(by=\"country\").size().sort_values(ascending=False).reset_index()\n",
    "#liczba odpowiedzi z danego kraju\n",
    "merge=pd.merge(pd.merge(all_posts, q, left_on=\"country\", right_on=\"country\"),ans,left_on=\"country\", right_on=\"country\")\n",
    "merge.columns=['country','all_posts','q','ans']"
   ]
  },
  {
   "cell_type": "code",
   "execution_count": 137,
   "metadata": {},
   "outputs": [
    {
     "data": {
      "text/html": [
       "<iframe id=\"igraph\" scrolling=\"no\" style=\"border:none;\" seamless=\"seamless\" src=\"https://plot.ly/~asiacz/16.embed\" height=\"525px\" width=\"100%\"></iframe>"
      ],
      "text/plain": [
       "<plotly.tools.PlotlyDisplay object>"
      ]
     },
     "execution_count": 137,
     "metadata": {},
     "output_type": "execute_result"
    }
   ],
   "source": [
    "import plotly.plotly as py\n",
    "import plotly.graph_objs as go\n",
    "\n",
    "trace1 = go.Bar(\n",
    "    x=list(merge.country[:n]),\n",
    "    y=list(merge.q[:n]),\n",
    "    name='Questions'\n",
    ")\n",
    "trace2 = go.Bar(\n",
    "    x=list(merge.country[:n]),\n",
    "    y=list(merge.ans[:n]),\n",
    "    name='Answers'\n",
    ")\n",
    "\n",
    "data = [trace1, trace2]\n",
    "layout = go.Layout(\n",
    "    barmode='stack'\n",
    ")\n",
    "\n",
    "fig = go.Figure(data=data, layout=layout)\n",
    "py.iplot(fig, filename='stacked-bar')"
   ]
  },
  {
   "cell_type": "code",
   "execution_count": 141,
   "metadata": {},
   "outputs": [
    {
     "data": {
      "text/html": [
       "<iframe id=\"igraph\" scrolling=\"no\" style=\"border:none;\" seamless=\"seamless\" src=\"https://plot.ly/~asiacz/14.embed\" height=\"525px\" width=\"100%\"></iframe>"
      ],
      "text/plain": [
       "<plotly.tools.PlotlyDisplay object>"
      ]
     },
     "execution_count": 141,
     "metadata": {},
     "output_type": "execute_result"
    }
   ],
   "source": [
    "merge=merge.sort_values(by=\"q\",ascending=False)\n",
    "import plotly.plotly as py\n",
    "import plotly.graph_objs as go\n",
    "\n",
    "data = [go.Bar(\n",
    "             x=list(merge.country[:n]),\n",
    "             y=list(merge.q[:n]),\n",
    "    )]\n",
    "\n",
    "py.iplot(data, filename='basic-bar')"
   ]
  },
  {
   "cell_type": "code",
   "execution_count": 142,
   "metadata": {},
   "outputs": [
    {
     "data": {
      "text/html": [
       "<iframe id=\"igraph\" scrolling=\"no\" style=\"border:none;\" seamless=\"seamless\" src=\"https://plot.ly/~asiacz/14.embed\" height=\"525px\" width=\"100%\"></iframe>"
      ],
      "text/plain": [
       "<plotly.tools.PlotlyDisplay object>"
      ]
     },
     "execution_count": 142,
     "metadata": {},
     "output_type": "execute_result"
    }
   ],
   "source": [
    "merge=merge.sort_values(by=\"ans\",ascending=False)\n",
    "import plotly.plotly as py\n",
    "import plotly.graph_objs as go\n",
    "\n",
    "data = [go.Bar(\n",
    "             x=list(merge.country[:n]),\n",
    "             y=list(merge.ans[:n]),\n",
    "    )]\n",
    "\n",
    "py.iplot(data, filename='basic-bar')"
   ]
  },
  {
   "cell_type": "markdown",
   "metadata": {},
   "source": [
    "# Poli"
   ]
  },
  {
   "cell_type": "code",
   "execution_count": 160,
   "metadata": {},
   "outputs": [],
   "source": [
    "n=10\n",
    "all_posts=pd.merge(p_posts, p_users, left_on=\"OwnerUserId\", right_on=\"Id\").groupby(by=\"country\").size().sort_values(ascending=False).reset_index()\n",
    "all_posts=all_posts.iloc[all_posts.country.values!='on the server farm',:]\n",
    "#liczba postow z danego kraju\n",
    "q=pd.merge(p_posts.loc[p_posts.PostTypeId.values=='1'], p_users, left_on=\"OwnerUserId\", right_on=\"Id\").groupby(by=\"country\").size().sort_values(ascending=False).reset_index()\n",
    "#liczba pytan z danego kraju\n",
    "ans=pd.merge(p_posts.loc[p_posts.PostTypeId.values=='2'], p_users, left_on=\"OwnerUserId\", right_on=\"Id\").groupby(by=\"country\").size().sort_values(ascending=False).reset_index()\n",
    "#liczba odpowiedzi z danego kraju\n",
    "merge=pd.merge(pd.merge(all_posts, q, left_on=\"country\", right_on=\"country\"),ans,left_on=\"country\", right_on=\"country\")\n",
    "merge.columns=['country','all_posts','q','ans']"
   ]
  },
  {
   "cell_type": "code",
   "execution_count": 161,
   "metadata": {},
   "outputs": [
    {
     "data": {
      "text/html": [
       "<iframe id=\"igraph\" scrolling=\"no\" style=\"border:none;\" seamless=\"seamless\" src=\"https://plot.ly/~asiacz/16.embed\" height=\"525px\" width=\"100%\"></iframe>"
      ],
      "text/plain": [
       "<plotly.tools.PlotlyDisplay object>"
      ]
     },
     "execution_count": 161,
     "metadata": {},
     "output_type": "execute_result"
    }
   ],
   "source": [
    "import plotly.plotly as py\n",
    "import plotly.graph_objs as go\n",
    "\n",
    "trace1 = go.Bar(\n",
    "    x=list(merge.country[:n]),\n",
    "    y=list(merge.q[:n]),\n",
    "    name='Questions'\n",
    ")\n",
    "trace2 = go.Bar(\n",
    "    x=list(merge.country[:n]),\n",
    "    y=list(merge.ans[:n]),\n",
    "    name='Answers'\n",
    ")\n",
    "\n",
    "data = [trace1, trace2]\n",
    "layout = go.Layout(\n",
    "    barmode='stack'\n",
    ")\n",
    "\n",
    "fig = go.Figure(data=data, layout=layout)\n",
    "py.iplot(fig, filename='stacked-bar')"
   ]
  },
  {
   "cell_type": "code",
   "execution_count": 162,
   "metadata": {},
   "outputs": [
    {
     "data": {
      "text/html": [
       "<iframe id=\"igraph\" scrolling=\"no\" style=\"border:none;\" seamless=\"seamless\" src=\"https://plot.ly/~asiacz/14.embed\" height=\"525px\" width=\"100%\"></iframe>"
      ],
      "text/plain": [
       "<plotly.tools.PlotlyDisplay object>"
      ]
     },
     "execution_count": 162,
     "metadata": {},
     "output_type": "execute_result"
    }
   ],
   "source": [
    "merge=merge.sort_values(by=\"q\",ascending=False)\n",
    "import plotly.plotly as py\n",
    "import plotly.graph_objs as go\n",
    "\n",
    "data = [go.Bar(\n",
    "             x=list(merge.country[:n]),\n",
    "             y=list(merge.q[:n]),\n",
    "    )]\n",
    "\n",
    "py.iplot(data, filename='basic-bar')"
   ]
  },
  {
   "cell_type": "code",
   "execution_count": 163,
   "metadata": {},
   "outputs": [
    {
     "data": {
      "text/html": [
       "<iframe id=\"igraph\" scrolling=\"no\" style=\"border:none;\" seamless=\"seamless\" src=\"https://plot.ly/~asiacz/14.embed\" height=\"525px\" width=\"100%\"></iframe>"
      ],
      "text/plain": [
       "<plotly.tools.PlotlyDisplay object>"
      ]
     },
     "execution_count": 163,
     "metadata": {},
     "output_type": "execute_result"
    }
   ],
   "source": [
    "merge=merge.sort_values(by=\"ans\",ascending=False)\n",
    "import plotly.plotly as py\n",
    "import plotly.graph_objs as go\n",
    "\n",
    "data = [go.Bar(\n",
    "             x=list(merge.country[:n]),\n",
    "             y=list(merge.ans[:n]),\n",
    "    )]\n",
    "\n",
    "py.iplot(data, filename='basic-bar')"
   ]
  },
  {
   "cell_type": "markdown",
   "metadata": {},
   "source": [
    "# movies"
   ]
  },
  {
   "cell_type": "code",
   "execution_count": 172,
   "metadata": {},
   "outputs": [],
   "source": [
    "n=10\n",
    "all_posts=pd.merge(m_posts, m_users, left_on=\"OwnerUserId\", right_on=\"Id\").groupby(by=\"country\").size().sort_values(ascending=False).reset_index()\n",
    "all_posts=all_posts.iloc[all_posts.country.values!='6',:]\n",
    "all_posts=all_posts.iloc[all_posts.country.values!='on the server farm',:]\n",
    "#liczba postow z danego kraju\n",
    "q=pd.merge(m_posts.loc[m_posts.PostTypeId.values=='1'], m_users, left_on=\"OwnerUserId\", right_on=\"Id\").groupby(by=\"country\").size().sort_values(ascending=False).reset_index()\n",
    "#liczba pytan z danego kraju\n",
    "ans=pd.merge(p_posts.loc[p_posts.PostTypeId.values=='2'], m_users, left_on=\"OwnerUserId\", right_on=\"Id\").groupby(by=\"country\").size().sort_values(ascending=False).reset_index()\n",
    "#liczba odpowiedzi z danego kraju\n",
    "merge=pd.merge(pd.merge(all_posts, q, left_on=\"country\", right_on=\"country\"),ans,left_on=\"country\", right_on=\"country\")\n",
    "merge.columns=['country','all_posts','q','ans']"
   ]
  },
  {
   "cell_type": "code",
   "execution_count": 173,
   "metadata": {},
   "outputs": [
    {
     "data": {
      "text/html": [
       "<iframe id=\"igraph\" scrolling=\"no\" style=\"border:none;\" seamless=\"seamless\" src=\"https://plot.ly/~asiacz/16.embed\" height=\"525px\" width=\"100%\"></iframe>"
      ],
      "text/plain": [
       "<plotly.tools.PlotlyDisplay object>"
      ]
     },
     "execution_count": 173,
     "metadata": {},
     "output_type": "execute_result"
    }
   ],
   "source": [
    "import plotly.plotly as py\n",
    "import plotly.graph_objs as go\n",
    "\n",
    "trace1 = go.Bar(\n",
    "    x=list(merge.country[:n]),\n",
    "    y=list(merge.q[:n]),\n",
    "    name='Questions'\n",
    ")\n",
    "trace2 = go.Bar(\n",
    "    x=list(merge.country[:n]),\n",
    "    y=list(merge.ans[:n]),\n",
    "    name='Answers'\n",
    ")\n",
    "\n",
    "data = [trace1, trace2]\n",
    "layout = go.Layout(\n",
    "    barmode='stack'\n",
    ")\n",
    "\n",
    "fig = go.Figure(data=data, layout=layout)\n",
    "py.iplot(fig, filename='stacked-bar')"
   ]
  },
  {
   "cell_type": "code",
   "execution_count": 174,
   "metadata": {},
   "outputs": [
    {
     "data": {
      "text/html": [
       "<iframe id=\"igraph\" scrolling=\"no\" style=\"border:none;\" seamless=\"seamless\" src=\"https://plot.ly/~asiacz/14.embed\" height=\"525px\" width=\"100%\"></iframe>"
      ],
      "text/plain": [
       "<plotly.tools.PlotlyDisplay object>"
      ]
     },
     "execution_count": 174,
     "metadata": {},
     "output_type": "execute_result"
    }
   ],
   "source": [
    "merge=merge.sort_values(by=\"q\",ascending=False)\n",
    "import plotly.plotly as py\n",
    "import plotly.graph_objs as go\n",
    "\n",
    "data = [go.Bar(\n",
    "             x=list(merge.country[:n]),\n",
    "             y=list(merge.q[:n]),\n",
    "    )]\n",
    "\n",
    "py.iplot(data, filename='basic-bar')"
   ]
  },
  {
   "cell_type": "code",
   "execution_count": 175,
   "metadata": {},
   "outputs": [
    {
     "data": {
      "text/html": [
       "<iframe id=\"igraph\" scrolling=\"no\" style=\"border:none;\" seamless=\"seamless\" src=\"https://plot.ly/~asiacz/14.embed\" height=\"525px\" width=\"100%\"></iframe>"
      ],
      "text/plain": [
       "<plotly.tools.PlotlyDisplay object>"
      ]
     },
     "execution_count": 175,
     "metadata": {},
     "output_type": "execute_result"
    }
   ],
   "source": [
    "merge=merge.sort_values(by=\"ans\",ascending=False)\n",
    "import plotly.plotly as py\n",
    "import plotly.graph_objs as go\n",
    "\n",
    "data = [go.Bar(\n",
    "             x=list(merge.country[:n]),\n",
    "             y=list(merge.ans[:n]),\n",
    "    )]\n",
    "\n",
    "py.iplot(data, filename='basic-bar')"
   ]
  },
  {
   "cell_type": "markdown",
   "metadata": {},
   "source": [
    "# Posty najczesciej odwiedzane"
   ]
  },
  {
   "cell_type": "markdown",
   "metadata": {},
   "source": [
    "ell"
   ]
  },
  {
   "cell_type": "code",
   "execution_count": 190,
   "metadata": {},
   "outputs": [
    {
     "data": {
      "text/plain": [
       "ViewCount                                                 9993\n",
       "Body         <blockquote>\\n  <p>Italian people have some di...\n",
       "Name: 2214, dtype: object"
      ]
     },
     "execution_count": 190,
     "metadata": {},
     "output_type": "execute_result"
    }
   ],
   "source": [
    "e_posts.sort_values(by=\"ViewCount\", ascending=False).loc[:,[\"ViewCount\",\"Body\"]].iloc[0,:]"
   ]
  },
  {
   "cell_type": "code",
   "execution_count": 192,
   "metadata": {},
   "outputs": [
    {
     "data": {
      "text/plain": [
       "'9993'"
      ]
     },
     "execution_count": 192,
     "metadata": {},
     "output_type": "execute_result"
    }
   ],
   "source": [
    "View=e_posts.sort_values(by=\"ViewCount\", ascending=False).loc[:,[\"ViewCount\",\"Body\"]].iloc[0,0]\n",
    "View"
   ]
  },
  {
   "cell_type": "code",
   "execution_count": 193,
   "metadata": {},
   "outputs": [
    {
     "data": {
      "text/plain": [
       "'<blockquote>\\n  <p>Italian people have some difficulties <strong>in usage</strong> of the word \"interchange\" and the phrase \"each other\".</p>\\n</blockquote>\\n\\n<p>When I wrote that sentence some doubts arose to my mind in reference to the highlighted words \"in usage\".</p>\\n\\n<p>I excluded that it was possible to write \"to use\", but I don\\'t know why. Afterwards I thought that I could have written \"in using\", but, after some thoughts, I excluded this option, too; then I decided to write \"in usage\", even when some uncertainty remained.</p>\\n\\n<p>Could anybody enlighten me on this problem? Is there some suggestion that might help incompetent speakers, as I am, in cases like this?</p>\\n'"
      ]
     },
     "execution_count": 193,
     "metadata": {},
     "output_type": "execute_result"
    }
   ],
   "source": [
    "Body=e_posts.sort_values(by=\"ViewCount\", ascending=False).loc[:,[\"ViewCount\",\"Body\"]].iloc[0,1]\n",
    "Body"
   ]
  },
  {
   "cell_type": "markdown",
   "metadata": {},
   "source": [
    "# poli"
   ]
  },
  {
   "cell_type": "code",
   "execution_count": 196,
   "metadata": {},
   "outputs": [
    {
     "data": {
      "text/plain": [
       "'98'"
      ]
     },
     "execution_count": 196,
     "metadata": {},
     "output_type": "execute_result"
    }
   ],
   "source": [
    "View=p_posts.sort_values(by=\"ViewCount\", ascending=False).loc[:,[\"ViewCount\",\"Body\"]].iloc[1,0] #wzielam drugi co do liczby odwiedzin post, bo pierwszy odwolywal sie do jakiegos innego postu\n",
    "View"
   ]
  },
  {
   "cell_type": "code",
   "execution_count": 198,
   "metadata": {},
   "outputs": [
    {
     "data": {
      "text/plain": [
       "'<p>Can anyone think of a way to ask for reasons why Trump should be impeached but by asking for it in a more politically correct and on topic sort of manner on SE Politics?</p>\\n\\n<p>If that is too broad entirely to ever work here then how could someone ask a question to get back such answers but by asking it in a different and not so blunt way where it would not be closed?</p>\\n'"
      ]
     },
     "execution_count": 198,
     "metadata": {},
     "output_type": "execute_result"
    }
   ],
   "source": [
    "Body=p_posts.sort_values(by=\"ViewCount\", ascending=False).loc[:,[\"ViewCount\",\"Body\"]].iloc[1,1]\n",
    "Body"
   ]
  },
  {
   "cell_type": "markdown",
   "metadata": {},
   "source": [
    "# movies"
   ]
  },
  {
   "cell_type": "code",
   "execution_count": 201,
   "metadata": {},
   "outputs": [
    {
     "data": {
      "text/plain": [
       "'99'"
      ]
     },
     "execution_count": 201,
     "metadata": {},
     "output_type": "execute_result"
    }
   ],
   "source": [
    "View=m_posts.sort_values(by=\"ViewCount\", ascending=False).loc[:,[\"ViewCount\",\"Body\"]].iloc[0,0] #tu te posty sa jakies slabe :\n",
    "View"
   ]
  },
  {
   "cell_type": "code",
   "execution_count": 206,
   "metadata": {},
   "outputs": [
    {
     "data": {
      "text/plain": [
       "'<p>Earlier I pulled up a suggested edit from a user where they edited \"spelling errors\". The spelling errors were actually (what I call) <em>local color</em>. What I mean by this is, in the UK, the spelling of \"color\" is <em>colour</em>. The spelling of \"theater\" is <em>theatre</em>. In my view, there is absolutely <em>nothing</em> wrong with this and should not be corrected. This is just how it\\'s done and we, as editors or keepers of the SE site should not allow these types of edits to go through. I was in the process of trying to change these back, without completely rejecting the edit, due mainly because there were some other, very pertinent edits on the page. The SE system would not allow me to change them back because it said my edits were too minor. So, when I went back to reject the suggested edits, someone else had already either rejected/accepted the edits (don\\'t know which) and it was no longer available to me.</p>\\n\\n<p>The discussion questions here are, should we be allowing these type of edits through? Should it be easier for those with editorial powers to change these back without rejecting the entire proposed edit?</p>\\n'"
      ]
     },
     "execution_count": 206,
     "metadata": {},
     "output_type": "execute_result"
    }
   ],
   "source": [
    "Body=m_posts.sort_values(by=\"ViewCount\", ascending=False).loc[:,[\"ViewCount\",\"Body\"]].iloc[3,1]\n",
    "Body"
   ]
  },
  {
   "cell_type": "code",
   "execution_count": 216,
   "metadata": {},
   "outputs": [],
   "source": [
    "p_posts.Id=p_posts.Id.astype(int)"
   ]
  },
  {
   "cell_type": "code",
   "execution_count": 217,
   "metadata": {},
   "outputs": [],
   "source": [
    "p_votes.PostId=p_votes.PostId.astype(int)"
   ]
  },
  {
   "cell_type": "code",
   "execution_count": 229,
   "metadata": {},
   "outputs": [
    {
     "data": {
      "text/plain": [
       "0       None\n",
       "1       None\n",
       "2       None\n",
       "3       None\n",
       "4       None\n",
       "5       None\n",
       "6       None\n",
       "7       None\n",
       "8       None\n",
       "9       None\n",
       "10      None\n",
       "11      None\n",
       "12      None\n",
       "13      None\n",
       "14      None\n",
       "15      None\n",
       "16      None\n",
       "17      None\n",
       "18      None\n",
       "19      None\n",
       "20      None\n",
       "21      None\n",
       "22      None\n",
       "23      None\n",
       "24      None\n",
       "25      None\n",
       "26      None\n",
       "27      None\n",
       "28      None\n",
       "29      None\n",
       "        ... \n",
       "2219    None\n",
       "2220    None\n",
       "2221    None\n",
       "2222    None\n",
       "2223    None\n",
       "2224    None\n",
       "2225    None\n",
       "2226    None\n",
       "2227    None\n",
       "2228    None\n",
       "2229    None\n",
       "2230    None\n",
       "2231    None\n",
       "2232    None\n",
       "2233    None\n",
       "2234    None\n",
       "2235    None\n",
       "2236    None\n",
       "2237    None\n",
       "2238    None\n",
       "2239    None\n",
       "2240    None\n",
       "2241    None\n",
       "2242    None\n",
       "2243    None\n",
       "2244    None\n",
       "2245    None\n",
       "2246    None\n",
       "2247    None\n",
       "2248    None\n",
       "Name: Age, Length: 2249, dtype: object"
      ]
     },
     "execution_count": 229,
     "metadata": {},
     "output_type": "execute_result"
    }
   ],
   "source": [
    "p_users.Age.loc[]"
   ]
  },
  {
   "cell_type": "code",
   "execution_count": null,
   "metadata": {},
   "outputs": [],
   "source": []
  },
  {
   "cell_type": "code",
   "execution_count": 207,
   "metadata": {},
   "outputs": [
    {
     "data": {
      "text/html": [
       "<div>\n",
       "<style scoped>\n",
       "    .dataframe tbody tr th:only-of-type {\n",
       "        vertical-align: middle;\n",
       "    }\n",
       "\n",
       "    .dataframe tbody tr th {\n",
       "        vertical-align: top;\n",
       "    }\n",
       "\n",
       "    .dataframe thead th {\n",
       "        text-align: right;\n",
       "    }\n",
       "</style>\n",
       "<table border=\"1\" class=\"dataframe\">\n",
       "  <thead>\n",
       "    <tr style=\"text-align: right;\">\n",
       "      <th></th>\n",
       "      <th>Id</th>\n",
       "      <th>PostTypeId</th>\n",
       "      <th>ParentID</th>\n",
       "      <th>AcceptedAnswerId</th>\n",
       "      <th>CreationDate</th>\n",
       "      <th>Score</th>\n",
       "      <th>ViewCount</th>\n",
       "      <th>Body</th>\n",
       "      <th>OwnerUserId</th>\n",
       "      <th>LastEditorUserId</th>\n",
       "      <th>LastEditorDisplayName</th>\n",
       "      <th>LastEditDate</th>\n",
       "      <th>LastActivityDate</th>\n",
       "      <th>CommunityOwnedDate</th>\n",
       "      <th>ClosedDate</th>\n",
       "      <th>Title</th>\n",
       "      <th>Tags</th>\n",
       "      <th>AnswerCount</th>\n",
       "      <th>CommentCount</th>\n",
       "      <th>FavoriteCount</th>\n",
       "    </tr>\n",
       "  </thead>\n",
       "  <tbody>\n",
       "    <tr>\n",
       "      <th>0</th>\n",
       "      <td>1</td>\n",
       "      <td>1</td>\n",
       "      <td>None</td>\n",
       "      <td>2</td>\n",
       "      <td>2012-12-04T21:57:33.980</td>\n",
       "      <td>8</td>\n",
       "      <td>90</td>\n",
       "      <td>&lt;p&gt;Some questions on this site are likely to b...</td>\n",
       "      <td>20</td>\n",
       "      <td>None</td>\n",
       "      <td>None</td>\n",
       "      <td>None</td>\n",
       "      <td>2012-12-05T13:51:40.713</td>\n",
       "      <td>None</td>\n",
       "      <td>None</td>\n",
       "      <td>How should we tag country-specific questions?</td>\n",
       "      <td>&lt;discussion&gt;&lt;tags&gt;</td>\n",
       "      <td>3</td>\n",
       "      <td>1</td>\n",
       "      <td>1</td>\n",
       "    </tr>\n",
       "  </tbody>\n",
       "</table>\n",
       "</div>"
      ],
      "text/plain": [
       "  Id PostTypeId ParentID AcceptedAnswerId             CreationDate Score  \\\n",
       "0  1          1     None                2  2012-12-04T21:57:33.980     8   \n",
       "\n",
       "  ViewCount                                               Body OwnerUserId  \\\n",
       "0        90  <p>Some questions on this site are likely to b...          20   \n",
       "\n",
       "  LastEditorUserId LastEditorDisplayName LastEditDate  \\\n",
       "0             None                  None         None   \n",
       "\n",
       "          LastActivityDate CommunityOwnedDate ClosedDate  \\\n",
       "0  2012-12-05T13:51:40.713               None       None   \n",
       "\n",
       "                                           Title                Tags  \\\n",
       "0  How should we tag country-specific questions?  <discussion><tags>   \n",
       "\n",
       "  AnswerCount CommentCount FavoriteCount  \n",
       "0           3            1             1  "
      ]
     },
     "execution_count": 207,
     "metadata": {},
     "output_type": "execute_result"
    }
   ],
   "source": [
    "p_posts.head(1)"
   ]
  },
  {
   "cell_type": "code",
   "execution_count": null,
   "metadata": {},
   "outputs": [],
   "source": []
  },
  {
   "cell_type": "code",
   "execution_count": null,
   "metadata": {},
   "outputs": [],
   "source": []
  },
  {
   "cell_type": "code",
   "execution_count": 199,
   "metadata": {},
   "outputs": [
    {
     "ename": "NameError",
     "evalue": "name 'tenses' is not defined",
     "output_type": "error",
     "traceback": [
      "\u001b[0;31m---------------------------------------------------------------------------\u001b[0m",
      "\u001b[0;31mNameError\u001b[0m                                 Traceback (most recent call last)",
      "\u001b[0;32m<ipython-input-199-cc7a8eb14af0>\u001b[0m in \u001b[0;36m<module>\u001b[0;34m()\u001b[0m\n\u001b[1;32m      1\u001b[0m \u001b[0;31m#popularnosc czasow\u001b[0m\u001b[0;34m\u001b[0m\u001b[0;34m\u001b[0m\u001b[0m\n\u001b[0;32m----> 2\u001b[0;31m \u001b[0;32mfor\u001b[0m \u001b[0mp\u001b[0m \u001b[0;32min\u001b[0m \u001b[0mtenses\u001b[0m\u001b[0;34m:\u001b[0m\u001b[0;34m\u001b[0m\u001b[0m\n\u001b[0m\u001b[1;32m      3\u001b[0m     \u001b[0mprint\u001b[0m\u001b[0;34m(\u001b[0m\u001b[0mp\u001b[0m\u001b[0;34m)\u001b[0m\u001b[0;34m\u001b[0m\u001b[0m\n\u001b[1;32m      4\u001b[0m     \u001b[0mprint\u001b[0m\u001b[0;34m(\u001b[0m\u001b[0mQuestions2\u001b[0m\u001b[0;34m.\u001b[0m\u001b[0mloc\u001b[0m\u001b[0;34m[\u001b[0m\u001b[0mQuestions2\u001b[0m\u001b[0;34m.\u001b[0m\u001b[0mtag\u001b[0m\u001b[0;34m.\u001b[0m\u001b[0mvalues\u001b[0m\u001b[0;34m==\u001b[0m\u001b[0mp\u001b[0m\u001b[0;34m]\u001b[0m\u001b[0;34m.\u001b[0m\u001b[0mshape\u001b[0m\u001b[0;34m[\u001b[0m\u001b[0;36m0\u001b[0m\u001b[0;34m]\u001b[0m\u001b[0;34m)\u001b[0m\u001b[0;34m\u001b[0m\u001b[0m\n",
      "\u001b[0;31mNameError\u001b[0m: name 'tenses' is not defined"
     ]
    }
   ],
   "source": [
    "#popularnosc czasow\n",
    "for p in tenses:\n",
    "    print(p)\n",
    "    print(Questions2.loc[Questions2.tag.values==p].shape[0])"
   ]
  },
  {
   "cell_type": "code",
   "execution_count": 200,
   "metadata": {},
   "outputs": [
    {
     "ename": "NameError",
     "evalue": "name 'year' is not defined",
     "output_type": "error",
     "traceback": [
      "\u001b[0;31m---------------------------------------------------------------------------\u001b[0m",
      "\u001b[0;31mNameError\u001b[0m                                 Traceback (most recent call last)",
      "\u001b[0;32m<ipython-input-200-3250345ae47e>\u001b[0m in \u001b[0;36m<module>\u001b[0;34m()\u001b[0m\n\u001b[1;32m      2\u001b[0m \u001b[0;32mfor\u001b[0m \u001b[0mi\u001b[0m \u001b[0;32min\u001b[0m \u001b[0me_posts\u001b[0m\u001b[0;34m.\u001b[0m\u001b[0mCreationDate\u001b[0m\u001b[0;34m:\u001b[0m\u001b[0;34m\u001b[0m\u001b[0m\n\u001b[1;32m      3\u001b[0m     \u001b[0myear_all\u001b[0m\u001b[0;34m.\u001b[0m\u001b[0mappend\u001b[0m\u001b[0;34m(\u001b[0m\u001b[0mpd\u001b[0m\u001b[0;34m.\u001b[0m\u001b[0mto_datetime\u001b[0m\u001b[0;34m(\u001b[0m\u001b[0mi\u001b[0m\u001b[0;34m)\u001b[0m\u001b[0;34m.\u001b[0m\u001b[0myear\u001b[0m\u001b[0;34m)\u001b[0m\u001b[0;34m\u001b[0m\u001b[0m\n\u001b[0;32m----> 4\u001b[0;31m \u001b[0myear_all\u001b[0m\u001b[0;34m=\u001b[0m\u001b[0mpd\u001b[0m\u001b[0;34m.\u001b[0m\u001b[0mDataFrame\u001b[0m\u001b[0;34m(\u001b[0m\u001b[0myear\u001b[0m\u001b[0;34m)\u001b[0m\u001b[0;34m\u001b[0m\u001b[0m\n\u001b[0m",
      "\u001b[0;31mNameError\u001b[0m: name 'year' is not defined"
     ]
    }
   ],
   "source": [
    "year_all=list()\n",
    "for i in e_posts.CreationDate:\n",
    "    year_all.append(pd.to_datetime(i).year)\n",
    "year_all=pd.DataFrame(year)"
   ]
  },
  {
   "cell_type": "code",
   "execution_count": null,
   "metadata": {},
   "outputs": [],
   "source": [
    "year_all.columns=[\"year\"]"
   ]
  },
  {
   "cell_type": "code",
   "execution_count": null,
   "metadata": {},
   "outputs": [],
   "source": [
    "year_all_summary=year_all.groupby(\"year\").size() #liczba postow w podziale na lata"
   ]
  },
  {
   "cell_type": "code",
   "execution_count": null,
   "metadata": {},
   "outputs": [],
   "source": [
    "year_Q=list()\n",
    "for i in e_posts.loc[e_posts.PostTypeId.values=='1'].CreationDate:\n",
    "    year.append(pd.to_datetime(i).year)\n",
    "year_Q=pd.DataFrame(year)\n",
    "year_Q.columns=[\"year\"]\n",
    "year_Q.groupby(\"year\").size() #liczba pytan w podziale na lata"
   ]
  },
  {
   "cell_type": "code",
   "execution_count": null,
   "metadata": {},
   "outputs": [],
   "source": [
    "year_A=list()\n",
    "for i in e_posts.loc[e_posts.PostTypeId.values=='2'].CreationDate:\n",
    "    year_A.append(pd.to_datetime(i).year)\n",
    "year_A=pd.DataFrame(year)\n",
    "year_A.columns=[\"year\"]\n",
    "year_A.groupby(\"year\").size() #liczba odpowiedzi w podziale na lata"
   ]
  },
  {
   "cell_type": "code",
   "execution_count": null,
   "metadata": {},
   "outputs": [],
   "source": [
    "month=list()\n",
    "year=list()\n",
    "for i in e_posts.CreationDate:\n",
    "    month.append(pd.to_datetime(i).month)\n",
    "    year.append(pd.to_datetime(i).year)\n",
    "time=pd.DataFrame(year,month).reset_index()\n",
    "time.columns=[\"month\",\"year\"]\n"
   ]
  },
  {
   "cell_type": "code",
   "execution_count": null,
   "metadata": {},
   "outputs": [],
   "source": [
    "summary=time.groupby([\"year\",\"month\"]).size().unstack()"
   ]
  },
  {
   "cell_type": "code",
   "execution_count": null,
   "metadata": {},
   "outputs": [],
   "source": []
  },
  {
   "cell_type": "code",
   "execution_count": null,
   "metadata": {},
   "outputs": [],
   "source": []
  },
  {
   "cell_type": "code",
   "execution_count": null,
   "metadata": {},
   "outputs": [],
   "source": []
  },
  {
   "cell_type": "code",
   "execution_count": null,
   "metadata": {},
   "outputs": [],
   "source": []
  },
  {
   "cell_type": "code",
   "execution_count": null,
   "metadata": {},
   "outputs": [],
   "source": []
  },
  {
   "cell_type": "code",
   "execution_count": null,
   "metadata": {},
   "outputs": [],
   "source": [
    "sum([ True for p in e_users.AboutMe if p !=None])"
   ]
  },
  {
   "cell_type": "code",
   "execution_count": null,
   "metadata": {},
   "outputs": [],
   "source": [
    "x=list([p.find(\"years\") if p !=None else -2 for p in e_users.AboutMe])"
   ]
  },
  {
   "cell_type": "code",
   "execution_count": null,
   "metadata": {},
   "outputs": [],
   "source": []
  },
  {
   "cell_type": "code",
   "execution_count": null,
   "metadata": {},
   "outputs": [],
   "source": [
    "adres = \"https://en.wikipedia.org/wiki/List_of_actors_with_Academy_Award_nominations\"\n",
    "res = pd.read_html(adres)"
   ]
  },
  {
   "cell_type": "code",
   "execution_count": null,
   "metadata": {},
   "outputs": [],
   "source": [
    "actors=[p.split(\" \") for p in res[1].loc[1:,0]]\n",
    "surnames=[actors[i][-1].lower() for i in range(len(actors))]\n",
    "counts=pd.DataFrame([sum([p in m for m in m_posts.Body]) for p in surnames],surnames).reset_index()\n",
    "counts.columns=[\"surname\", \"count\"]\n",
    "counts.sort_values(by=\"count\", ascending=False).head(50) #liczba wystopien nazwisk aktorow nominowanych do Oscarow w postach, ale czy na pewno nazwisk.."
   ]
  },
  {
   "cell_type": "code",
   "execution_count": null,
   "metadata": {},
   "outputs": [],
   "source": [
    "Questions2[\"ViewCount\"]=[int(i)for i in Questions2.ViewCount]\n",
    "Questions2.groupby(\"tag\")[\"ViewCount\"].agg(np.sum).reset_index().sort_values(by=\"ViewCount\", ascending=False)"
   ]
  },
  {
   "cell_type": "code",
   "execution_count": null,
   "metadata": {},
   "outputs": [],
   "source": [
    "Questions[\"ViewCount\"]=[int(i) for i in Questions.ViewCount]\n"
   ]
  },
  {
   "cell_type": "code",
   "execution_count": null,
   "metadata": {},
   "outputs": [],
   "source": [
    "\n",
    "\n",
    "import plotly.plotly as py\n",
    "plotly.tools.set_credentials_file(username='asiacz', api_key='Fd7M4iS81fCCLQyiiJb3')\n",
    "import plotly.graph_objs as go\n",
    "\n",
    "trace = go.Heatmap(=np.array(mapa),\n",
    "                   x=list(mapa.columns),\n",
    "                   y=list(mapa.index))\n",
    "data=[trace]\n",
    "py.iplot(data, filename='labelled-heatmap')\n",
    "\n"
   ]
  },
  {
   "cell_type": "code",
   "execution_count": null,
   "metadata": {},
   "outputs": [],
   "source": [
    "Questions.sort_values(by=\"ViewCount\", ascending=False).Body[0]"
   ]
  },
  {
   "cell_type": "code",
   "execution_count": null,
   "metadata": {},
   "outputs": [],
   "source": [
    "import matplotlib.pyplot as plt\n",
    "import numpy as np\n",
    " \n",
    "# create data\n",
    "x = list([1,2,2,4,5])\n",
    "y = np.random.rand(5)\n",
    "z = np.random.rand(5)\n",
    " \n",
    "# pimp your plot with the seaborn style\n",
    "import seaborn as sns\n",
    "plt.scatter(x, y, s=z*4000, c=\"green\", alpha=0.4, linewidth=6)\n",
    " \n",
    "# Add titles (main and on axis)\n",
    "plt.xlabel(\"the X axis\")\n",
    "plt.ylabel(\"the Y axis\")\n",
    "plt.title(\"A bubble plot\", loc=\"left\")\n",
    "plt.show()\n",
    "\n"
   ]
  },
  {
   "cell_type": "code",
   "execution_count": null,
   "metadata": {},
   "outputs": [],
   "source": []
  },
  {
   "cell_type": "code",
   "execution_count": null,
   "metadata": {},
   "outputs": [],
   "source": []
  },
  {
   "cell_type": "code",
   "execution_count": null,
   "metadata": {},
   "outputs": [],
   "source": []
  },
  {
   "cell_type": "code",
   "execution_count": null,
   "metadata": {},
   "outputs": [],
   "source": []
  },
  {
   "cell_type": "code",
   "execution_count": null,
   "metadata": {},
   "outputs": [],
   "source": []
  },
  {
   "cell_type": "code",
   "execution_count": null,
   "metadata": {},
   "outputs": [],
   "source": []
  },
  {
   "cell_type": "code",
   "execution_count": null,
   "metadata": {},
   "outputs": [],
   "source": []
  },
  {
   "cell_type": "code",
   "execution_count": null,
   "metadata": {},
   "outputs": [],
   "source": []
  },
  {
   "cell_type": "code",
   "execution_count": null,
   "metadata": {},
   "outputs": [],
   "source": []
  }
 ],
 "metadata": {
  "kernelspec": {
   "display_name": "Python 3",
   "language": "python",
   "name": "python3"
  },
  "language_info": {
   "codemirror_mode": {
    "name": "ipython",
    "version": 3
   },
   "file_extension": ".py",
   "mimetype": "text/x-python",
   "name": "python",
   "nbconvert_exporter": "python",
   "pygments_lexer": "ipython3",
   "version": "3.7.0"
  }
 },
 "nbformat": 4,
 "nbformat_minor": 2
}
