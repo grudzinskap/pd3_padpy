{
 "cells": [
  {
   "cell_type": "code",
   "execution_count": 1,
   "metadata": {},
   "outputs": [],
   "source": [
    "import numpy as np\n",
    "import pandas as pd\n",
    "from lxml import etree as et\n",
    "import os.path, glob\n",
    "import sqlite3\n",
    "from sys import getsizeof\n",
    "import tempfile"
   ]
  },
  {
   "cell_type": "code",
   "execution_count": 2,
   "metadata": {},
   "outputs": [],
   "source": [
    "names = {\n",
    "    'badges' : ['UserId', 'Name', 'Date'],\n",
    "    'comments' : ['Id', 'PostId', 'Score', 'Text', 'CreationDate', 'UserId'],\n",
    "    'posts' : ['Id', 'PostTypeId', 'ParentID', 'AcceptedAnswerId', 'CreationDate', 'Score', 'ViewCount', 'Body', 'OwnerUserId',\n",
    "               'LastEditorUserId', 'LastEditorDisplayName', 'LastEditDate', 'LastActivityDate', 'CommunityOwnedDate', 'ClosedDate',\n",
    "               'Title', 'Tags', 'AnswerCount', 'CommentCount', 'FavoriteCount'],\n",
    "    'posthistory' : ['Id', 'PostHistoryTypeId', 'PostId', 'RevisionGUID', 'CreationDate', 'UserId', 'UserDisplayName', \n",
    "                     'Comment', 'Text', 'CloseReasonId'],\n",
    "    'postlinks' : ['Id', 'CreationDate', 'PostId', 'RelatedPostId', 'PostLinkTypeId'],\n",
    "    'users' : ['Id', 'Reputation', 'CreationDate', 'DisplayName', 'EmailHash', 'LastAccessDate', 'WebsiteUrl',\n",
    "               'Location', 'Age', 'AboutMe', 'Views', 'UpVotes', 'DownVotes'],\n",
    "    'votes' : ['PostId', 'VoteTypeId', 'CreationDate', 'UserId', 'BountyAmount'], \n",
    "    'tags' : ['Id', 'TagName', 'Count', 'ExcerptPostId', 'WikiPostId']}"
   ]
  },
  {
   "cell_type": "code",
   "execution_count": 3,
   "metadata": {},
   "outputs": [],
   "source": [
    "conn = sqlite3.connect('pd3_padpy.db')"
   ]
  },
  {
   "cell_type": "code",
   "execution_count": null,
   "metadata": {},
   "outputs": [
    {
     "name": "stdout",
     "output_type": "stream",
     "text": [
      "e_badges\n",
      "e_comments\n",
      "e_posthistory\n"
     ]
    }
   ],
   "source": [
    "for stack in glob.glob(\"*.com\"):\n",
    "    stack_name = stack[:stack.find('.')]\n",
    "    for xml in glob.glob(os.path.join(stack, \"*.xml\")):\n",
    "        xml_name = xml[xml.find('.com') + 5:xml.find('.xml')].lower()\n",
    "        print(stack_name[0] + '_' + xml_name)\n",
    "        \n",
    "        col_names = names.get(xml_name)\n",
    "        tree = et.parse(xml)\n",
    "        root = tree.getroot()\n",
    "        df = pd.DataFrame([[r.get(i) for i in col_names] for r in root], columns = col_names)\n",
    "        \n",
    "        plik = tempfile.NamedTemporaryFile(delete=False).name\n",
    "        df.to_csv(plik, index = False)\n",
    "        df = pd.read_csv(plik)\n",
    "        os.remove(plik)\n",
    "        \n",
    "        date_columns = [c for c in df.columns if c.lower().find('date') >= 0]\n",
    "        for c in date_columns:\n",
    "            df[c] = pd.to_datetime(df[c])\n",
    "            \n",
    "        df.to_sql(stack_name[0] + '_' + xml_name, conn, index = False)  \n",
    "\n",
    "        if stack_name == 'ell':\n",
    "            if xml_name == 'badges':\n",
    "                e_badges = df\n",
    "            elif xml_name == 'comments':\n",
    "                e_comments = df\n",
    "            elif xml_name == 'posts':\n",
    "                e_posts = df\n",
    "            elif xml_name == 'posthistory':\n",
    "                e_posthistory = df\n",
    "            elif xml_name == 'postlinks':\n",
    "                e_postlinks = df\n",
    "            elif xml_name == 'users':\n",
    "                e_users = df\n",
    "            elif xml_name == 'votes':\n",
    "                e_votes = df\n",
    "            elif xml_name == 'tags':\n",
    "                e_tags = df\n",
    "        elif stack_name == 'movies':\n",
    "            if xml_name == 'badges':\n",
    "                m_badges = df\n",
    "            elif xml_name == 'comments':\n",
    "                m_comments = df\n",
    "            elif xml_name == 'posts':\n",
    "                m_posts = df\n",
    "            elif xml_name == 'posthistory':\n",
    "                m_posthistory = df\n",
    "            elif xml_name == 'postlinks':\n",
    "                m_postlinks = df\n",
    "            elif xml_name == 'users':\n",
    "                m_users = df\n",
    "            elif xml_name == 'votes':\n",
    "                m_votes = df\n",
    "            elif xml_name == 'tags':\n",
    "                m_tags = df      \n",
    "        elif stack_name == 'politics':\n",
    "            if xml_name == 'badges':\n",
    "                p_badges = df\n",
    "            elif xml_name == 'comments':\n",
    "                p_comments = df\n",
    "            elif xml_name == 'posts':\n",
    "                p_posts = df\n",
    "            elif xml_name == 'posthistory':\n",
    "                p_posthistory = df\n",
    "            elif xml_name == 'postlinks':\n",
    "                p_postlinks = df\n",
    "            elif xml_name == 'users':\n",
    "                p_users = df\n",
    "            elif xml_name == 'votes':\n",
    "                p_votes = df\n",
    "            elif xml_name == 'tags':\n",
    "                p_tags = df          "
   ]
  },
  {
   "cell_type": "code",
   "execution_count": null,
   "metadata": {},
   "outputs": [],
   "source": []
  }
 ],
 "metadata": {
  "kernelspec": {
   "display_name": "Python 3",
   "language": "python",
   "name": "python3"
  },
  "language_info": {
   "codemirror_mode": {
    "name": "ipython",
    "version": 3
   },
   "file_extension": ".py",
   "mimetype": "text/x-python",
   "name": "python",
   "nbconvert_exporter": "python",
   "pygments_lexer": "ipython3",
   "version": "3.7.0"
  }
 },
 "nbformat": 4,
 "nbformat_minor": 2
}
